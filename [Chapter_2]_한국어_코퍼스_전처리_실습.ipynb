{
  "nbformat": 4,
  "nbformat_minor": 0,
  "metadata": {
    "colab": {
      "provenance": [],
      "include_colab_link": true
    },
    "kernelspec": {
      "name": "python3",
      "display_name": "Python 3"
    },
    "language_info": {
      "name": "python"
    }
  },
  "cells": [
    {
      "cell_type": "markdown",
      "metadata": {
        "id": "view-in-github",
        "colab_type": "text"
      },
      "source": [
        "<a href=\"https://colab.research.google.com/github/Jinhyeong-Lim/ALCE/blob/main/%5BChapter_2%5D_%ED%95%9C%EA%B5%AD%EC%96%B4_%EC%BD%94%ED%8D%BC%EC%8A%A4_%EC%A0%84%EC%B2%98%EB%A6%AC_%EC%8B%A4%EC%8A%B5.ipynb\" target=\"_parent\"><img src=\"https://colab.research.google.com/assets/colab-badge.svg\" alt=\"Open In Colab\"/></a>"
      ]
    },
    {
      "cell_type": "markdown",
      "source": [
        "# 한국어 코퍼스 전처리 실습"
      ],
      "metadata": {
        "id": "8bBsbUl5ea8W"
      }
    },
    {
      "cell_type": "markdown",
      "source": [
        "## Introduction\n",
        "\n",
        "**Chapter 2. 한국어 데이터 전처리** 강의의 **한국어 코퍼스 전처리 실습 강의**입니다.\n",
        "\n",
        "일반적인 한국어 코퍼스 처리 과정인 (1) 코퍼스 수집, (2) 정제(Cleaning) 및 정규화(Normalization), (3) 토큰화(Tokenization)을 이해할 수 있도록 간단한 전처리 과정을 실습합니다."
      ],
      "metadata": {
        "id": "iw39h16CeeAp"
      }
    },
    {
      "cell_type": "markdown",
      "source": [
        "## 1. 코퍼스 수집"
      ],
      "metadata": {
        "id": "4giE70qRehDa"
      }
    },
    {
      "cell_type": "markdown",
      "source": [
        "한국어 코퍼스 전처리 실습을 위해, 뉴스 기사를 크롤링 해보겠습니다.\n",
        "\n",
        "일반적으로 크롤링 코드를 작성하려면 많은 요소들을 고려해야하지만,\n",
        "\n",
        "본 실습에서는 url 정보만 입력해주면 텍스트를 추출해주는 [Newspaper3k](https://github.com/codelucas/newspaper) 라이브러리를 사용하도록 하겠습니다.      "
      ],
      "metadata": {
        "id": "Q50FN90qejyN"
      }
    },
    {
      "cell_type": "code",
      "execution_count": null,
      "metadata": {
        "colab": {
          "base_uri": "https://localhost:8080/"
        },
        "id": "YO61-ohiOg7D",
        "outputId": "559ba143-34b3-4c07-d545-faec6d96ec1b"
      },
      "outputs": [
        {
          "output_type": "stream",
          "name": "stdout",
          "text": [
            "Looking in indexes: https://pypi.org/simple, https://us-python.pkg.dev/colab-wheels/public/simple/\n",
            "Collecting newspaper3k\n",
            "  Downloading newspaper3k-0.2.8-py3-none-any.whl (211 kB)\n",
            "\u001b[2K     \u001b[90m━━━━━━━━━━━━━━━━━━━━━━━━━━━━━━━━━━━━━━━\u001b[0m \u001b[32m211.1/211.1 KB\u001b[0m \u001b[31m6.5 MB/s\u001b[0m eta \u001b[36m0:00:00\u001b[0m\n",
            "\u001b[?25hCollecting tldextract>=2.0.1\n",
            "  Downloading tldextract-3.4.0-py3-none-any.whl (93 kB)\n",
            "\u001b[2K     \u001b[90m━━━━━━━━━━━━━━━━━━━━━━━━━━━━━━━━━━━━━━━━\u001b[0m \u001b[32m93.9/93.9 KB\u001b[0m \u001b[31m11.0 MB/s\u001b[0m eta \u001b[36m0:00:00\u001b[0m\n",
            "\u001b[?25hCollecting feedparser>=5.2.1\n",
            "  Downloading feedparser-6.0.10-py3-none-any.whl (81 kB)\n",
            "\u001b[2K     \u001b[90m━━━━━━━━━━━━━━━━━━━━━━━━━━━━━━━━━━━━━━━━\u001b[0m \u001b[32m81.1/81.1 KB\u001b[0m \u001b[31m8.6 MB/s\u001b[0m eta \u001b[36m0:00:00\u001b[0m\n",
            "\u001b[?25hCollecting feedfinder2>=0.0.4\n",
            "  Downloading feedfinder2-0.0.4.tar.gz (3.3 kB)\n",
            "  Preparing metadata (setup.py) ... \u001b[?25l\u001b[?25hdone\n",
            "Collecting jieba3k>=0.35.1\n",
            "  Downloading jieba3k-0.35.1.zip (7.4 MB)\n",
            "\u001b[2K     \u001b[90m━━━━━━━━━━━━━━━━━━━━━━━━━━━━━━━━━━━━━━━━\u001b[0m \u001b[32m7.4/7.4 MB\u001b[0m \u001b[31m37.3 MB/s\u001b[0m eta \u001b[36m0:00:00\u001b[0m\n",
            "\u001b[?25h  Preparing metadata (setup.py) ... \u001b[?25l\u001b[?25hdone\n",
            "Collecting tinysegmenter==0.3\n",
            "  Downloading tinysegmenter-0.3.tar.gz (16 kB)\n",
            "  Preparing metadata (setup.py) ... \u001b[?25l\u001b[?25hdone\n",
            "Requirement already satisfied: lxml>=3.6.0 in /usr/local/lib/python3.8/dist-packages (from newspaper3k) (4.9.2)\n",
            "Requirement already satisfied: PyYAML>=3.11 in /usr/local/lib/python3.8/dist-packages (from newspaper3k) (6.0)\n",
            "Collecting cssselect>=0.9.2\n",
            "  Downloading cssselect-1.2.0-py2.py3-none-any.whl (18 kB)\n",
            "Requirement already satisfied: requests>=2.10.0 in /usr/local/lib/python3.8/dist-packages (from newspaper3k) (2.25.1)\n",
            "Requirement already satisfied: Pillow>=3.3.0 in /usr/local/lib/python3.8/dist-packages (from newspaper3k) (7.1.2)\n",
            "Requirement already satisfied: nltk>=3.2.1 in /usr/local/lib/python3.8/dist-packages (from newspaper3k) (3.7)\n",
            "Requirement already satisfied: python-dateutil>=2.5.3 in /usr/local/lib/python3.8/dist-packages (from newspaper3k) (2.8.2)\n",
            "Requirement already satisfied: beautifulsoup4>=4.4.1 in /usr/local/lib/python3.8/dist-packages (from newspaper3k) (4.6.3)\n",
            "Requirement already satisfied: six in /usr/local/lib/python3.8/dist-packages (from feedfinder2>=0.0.4->newspaper3k) (1.15.0)\n",
            "Collecting sgmllib3k\n",
            "  Downloading sgmllib3k-1.0.0.tar.gz (5.8 kB)\n",
            "  Preparing metadata (setup.py) ... \u001b[?25l\u001b[?25hdone\n",
            "Requirement already satisfied: regex>=2021.8.3 in /usr/local/lib/python3.8/dist-packages (from nltk>=3.2.1->newspaper3k) (2022.6.2)\n",
            "Requirement already satisfied: joblib in /usr/local/lib/python3.8/dist-packages (from nltk>=3.2.1->newspaper3k) (1.2.0)\n",
            "Requirement already satisfied: click in /usr/local/lib/python3.8/dist-packages (from nltk>=3.2.1->newspaper3k) (7.1.2)\n",
            "Requirement already satisfied: tqdm in /usr/local/lib/python3.8/dist-packages (from nltk>=3.2.1->newspaper3k) (4.64.1)\n",
            "Requirement already satisfied: certifi>=2017.4.17 in /usr/local/lib/python3.8/dist-packages (from requests>=2.10.0->newspaper3k) (2022.12.7)\n",
            "Requirement already satisfied: idna<3,>=2.5 in /usr/local/lib/python3.8/dist-packages (from requests>=2.10.0->newspaper3k) (2.10)\n",
            "Requirement already satisfied: chardet<5,>=3.0.2 in /usr/local/lib/python3.8/dist-packages (from requests>=2.10.0->newspaper3k) (4.0.0)\n",
            "Requirement already satisfied: urllib3<1.27,>=1.21.1 in /usr/local/lib/python3.8/dist-packages (from requests>=2.10.0->newspaper3k) (1.24.3)\n",
            "Requirement already satisfied: filelock>=3.0.8 in /usr/local/lib/python3.8/dist-packages (from tldextract>=2.0.1->newspaper3k) (3.8.2)\n",
            "Collecting requests-file>=1.4\n",
            "  Downloading requests_file-1.5.1-py2.py3-none-any.whl (3.7 kB)\n",
            "Building wheels for collected packages: tinysegmenter, feedfinder2, jieba3k, sgmllib3k\n",
            "  Building wheel for tinysegmenter (setup.py) ... \u001b[?25l\u001b[?25hdone\n",
            "  Created wheel for tinysegmenter: filename=tinysegmenter-0.3-py3-none-any.whl size=13552 sha256=b42cd2313c3cd5d9c5e6c325a9cf914bd6d94f90e948ba76e7a3212dab088f28\n",
            "  Stored in directory: /root/.cache/pip/wheels/99/74/83/8fac1c8d9c648cfabebbbffe97a889f6624817f3aa0bbe6c09\n",
            "  Building wheel for feedfinder2 (setup.py) ... \u001b[?25l\u001b[?25hdone\n",
            "  Created wheel for feedfinder2: filename=feedfinder2-0.0.4-py3-none-any.whl size=3354 sha256=cf318f678018e988a8dbab128c26f1f6eff421c63edcd408fa7badaa52eb2992\n",
            "  Stored in directory: /root/.cache/pip/wheels/b6/09/68/a9f15498ac02c23dde29f18745bc6a6f574ba4ab41861a3575\n",
            "  Building wheel for jieba3k (setup.py) ... \u001b[?25l\u001b[?25hdone\n",
            "  Created wheel for jieba3k: filename=jieba3k-0.35.1-py3-none-any.whl size=7398405 sha256=0f101e83b8c2459e151da487a6e0fa4aab597fac26faa9bfa6e96e786a1b732b\n",
            "  Stored in directory: /root/.cache/pip/wheels/1f/7e/0c/54f3b0f5164278677899f2db08f2b07943ce2d024a3c862afb\n",
            "  Building wheel for sgmllib3k (setup.py) ... \u001b[?25l\u001b[?25hdone\n",
            "  Created wheel for sgmllib3k: filename=sgmllib3k-1.0.0-py3-none-any.whl size=6066 sha256=53568a44c1a404b80b4d280ed99b012aef7a012e2748b39b22b05cac4383cbb1\n",
            "  Stored in directory: /root/.cache/pip/wheels/83/63/2f/117884c3b19d46b64d3d61690333aa80c88dc14050e269c546\n",
            "Successfully built tinysegmenter feedfinder2 jieba3k sgmllib3k\n",
            "Installing collected packages: tinysegmenter, sgmllib3k, jieba3k, feedparser, cssselect, requests-file, feedfinder2, tldextract, newspaper3k\n",
            "Successfully installed cssselect-1.2.0 feedfinder2-0.0.4 feedparser-6.0.10 jieba3k-0.35.1 newspaper3k-0.2.8 requests-file-1.5.1 sgmllib3k-1.0.0 tinysegmenter-0.3 tldextract-3.4.0\n"
          ]
        }
      ],
      "source": [
        "!pip install newspaper3k"
      ]
    },
    {
      "cell_type": "markdown",
      "source": [
        "newspaper 라이브러리는 매우 많은 언어에 대한 크롤링을 지원해주며, 아래 명령어로 지원 가능한 언어 목록을 확인할 수 있습니다."
      ],
      "metadata": {
        "id": "gYSxmEJGenBK"
      }
    },
    {
      "cell_type": "code",
      "source": [
        "import newspaper\n",
        "newspaper.languages()"
      ],
      "metadata": {
        "colab": {
          "base_uri": "https://localhost:8080/"
        },
        "id": "P-w_q54aelvP",
        "outputId": "6f5adff3-0c06-4d9d-ebc4-80adf42c7f27"
      },
      "execution_count": null,
      "outputs": [
        {
          "output_type": "stream",
          "name": "stdout",
          "text": [
            "\n",
            "Your available languages are:\n",
            "\n",
            "input code\t\tfull name\n",
            "  ja\t\t\t  Japanese\n",
            "  fa\t\t\t  Persian\n",
            "  he\t\t\t  Hebrew\n",
            "  zh\t\t\t  Chinese\n",
            "  no\t\t\t  Norwegian\n",
            "  mk\t\t\t  Macedonian\n",
            "  sw\t\t\t  Swahili\n",
            "  pt\t\t\t  Portuguese\n",
            "  uk\t\t\t  Ukrainian\n",
            "  ru\t\t\t  Russian\n",
            "  hu\t\t\t  Hungarian\n",
            "  nl\t\t\t  Dutch\n",
            "  es\t\t\t  Spanish\n",
            "  be\t\t\t  Belarusian\n",
            "  ro\t\t\t  Romanian\n",
            "  nb\t\t\t  Norwegian (Bokmål)\n",
            "  hi\t\t\t  Hindi\n",
            "  sr\t\t\t  Serbian\n",
            "  vi\t\t\t  Vietnamese\n",
            "  tr\t\t\t  Turkish\n",
            "  ko\t\t\t  Korean\n",
            "  it\t\t\t  Italian\n",
            "  da\t\t\t  Danish\n",
            "  ar\t\t\t  Arabic\n",
            "  en\t\t\t  English\n",
            "  sv\t\t\t  Swedish\n",
            "  el\t\t\t  Greek\n",
            "  hr\t\t\t  Croatian\n",
            "  fi\t\t\t  Finnish\n",
            "  de\t\t\t  German\n",
            "  sl\t\t\t  Slovenian\n",
            "  pl\t\t\t  Polish\n",
            "  et\t\t\t  Estonian\n",
            "  fr\t\t\t  French\n",
            "  bg\t\t\t  Bulgarian\n",
            "  id\t\t\t  Indonesian\n",
            "\n"
          ]
        }
      ]
    },
    {
      "cell_type": "markdown",
      "source": [
        "이제 다운로드 받은 라이브러리를 활용하여 뉴스를 크롤링해보겠습니다.\n",
        "\n",
        "일반적인 뉴스 기사의 경우, 상업용으로 사용하거나 재배포하는 등의 활동은 저작권에 위반되기 때문에, 사용 목적에 따라 저작권을 주의 깊게 확인하고 사용해야 합니다.   \n",
        "\n",
        "본 실습에서는 저작권에서 비교적 자유로운 위키트리 뉴스 데이터를 사용하도록 하겠습니다.   "
      ],
      "metadata": {
        "id": "3cv9e43Cep1f"
      }
    },
    {
      "cell_type": "code",
      "source": [
        "from newspaper import Article"
      ],
      "metadata": {
        "id": "l956io8Tes1z"
      },
      "execution_count": null,
      "outputs": []
    },
    {
      "cell_type": "code",
      "source": [
        "URL = \"https://www.wikitree.co.kr/articles/813981\"\n",
        "\n",
        "# title: 온갖 곳에서 다 쓰는 ‘중요한 건 꺾이지 않는 마음’, 사람들 반응은? feat. 중꺾마 [뉴스마켓]\n",
        "# context: 이하 유튜브 '뉴스마켓'\n",
        "# 주가, 부동산 폭락, 환율 급상승 등 우울한 일로 가득했던 2022년, 월드컵에서 등장한 이 문장이 대한민국을 사로잡았습니다. 바로 ‘중요한 것은 꺾이지 않는 마음’인데요.\n",
        "# 암울한 현실 상황으로 인해 한 해 동안 유행어는 대부분 냉소적인 내용들로 이루어져 있었지만, ‘중요한 건 꺾이지 않는 마음’의 긍정적인 의미는 인터넷을 넘어 방송, 정치 등으로 뻗어나갔니다. 일부에서는 너무 남용되어 금방 힘이 꺾일 것이라는 전망도 나오는데요.\n",
        "# 희망과 노력의 가치를 일깨워 준 유행어 \"꺾이지 않는 마음\"은 모두가 힘들었던 2022년 겨울, 뜨거웠던 카타르 월드컵의 추억을 앞으로도 계속 떠올리게 해줄 것 같습니다."
      ],
      "metadata": {
        "id": "q-KT5OK5eqYz"
      },
      "execution_count": null,
      "outputs": []
    },
    {
      "cell_type": "code",
      "source": [
        "article = Article(URL, language='ko')"
      ],
      "metadata": {
        "id": "5w04F-4wetrl"
      },
      "execution_count": null,
      "outputs": []
    },
    {
      "cell_type": "code",
      "source": [
        "article.download()\n",
        "article.parse()\n",
        "\n",
        "print('title:', article.title)\n",
        "print('context:', article.text)"
      ],
      "metadata": {
        "colab": {
          "base_uri": "https://localhost:8080/"
        },
        "id": "RIXn6VmJeuS5",
        "outputId": "a40b2331-178e-4348-e771-d977dc4752ec"
      },
      "execution_count": null,
      "outputs": [
        {
          "output_type": "stream",
          "name": "stdout",
          "text": [
            "title: 온갖 곳에서 다 쓰는 ‘중요한 건 꺾이지 않는 마음’, 사람들 반응은? feat. 중꺾마 [뉴스마켓]\n",
            "context: ※ 위키트리가 선보이는 영상 뉴스가 유튜브 '뉴스마켓'을 통해 독자 여러분과 만납니다. '뉴스마켓'은 쉽고 빠르게 실시간 뉴스를 영상으로 접할 수 있는 채널로, 앞으로 더 알차고 좋은 내용으로 꾸려나갈 예정입니다. ☞ 유튜브 '뉴스마켓' 구독하기\n",
            "\n",
            "이하 유튜브 '뉴스마켓'\n",
            "\n",
            "주가, 부동산 폭락, 환율 급상승 등 우울한 일로 가득했던 2022년, 월드컵에서 등장한 이 문장이 대한민국을 사로잡았습니다. 바로 ‘중요한 것은 꺾이지 않는 마음’인데요.\n",
            "\n",
            "암울한 현실 상황으로 인해 한 해 동안 유행어는 대부분 냉소적인 내용들로 이루어져 있었지만, ‘중요한 건 꺾이지 않는 마음’의 긍정적인 의미는 인터넷을 넘어 방송, 정치 등으로 뻗어나갔니다. 일부에서는 너무 남용되어 금방 힘이 꺾일 것이라는 전망도 나오는데요.\n",
            "\n",
            "희망과 노력의 가치를 일깨워 준 유행어 \"꺾이지 않는 마음\"은 모두가 힘들었던 2022년 겨울, 뜨거웠던 카타르 월드컵의 추억을 앞으로도 계속 떠올리게 해줄 것 같습니다.\n"
          ]
        }
      ]
    },
    {
      "cell_type": "markdown",
      "source": [
        "추가로, 다양한 전처리 실습을 위해 일반적인 뉴스에서 많이 포함되는 예제 텍스트들을 임의로 추가할게요."
      ],
      "metadata": {
        "id": "GaGUPsOKev17"
      }
    },
    {
      "cell_type": "code",
      "source": [
        "additional_info = [\n",
        "  \"영상취재 홍길동(hongkildong@chosun.com) 제주방송 임꺽정 홍길동(hongkildong@chosun.com)\",\n",
        "  \"<h1>중요한 것은       꺾이지     않는 마음</h1> <h3>카타르 월드컵</h3> <b>유행어</b>로 이루어진    문서입니다.\"\n",
        "  \"<br>이 줄은 실제 뉴스에 포함되지 않은 임시 데이터임을 알립니다…<br>\",\n",
        "  \"Copyright ⓒ JIBS. All rights reserved. 무단 전재 및 재배포 금지.\",\n",
        "  \"<이 기사는 언론사 에서 문화 섹션 으로 분류 했습 니다.>\",\n",
        "  \"<br>이 줄은 실제 뉴스에 포함되지 않은 임시 데이터임을 알립니다…<br>\",\n",
        "  \"#주가 #부동산 #폭락 #환률 #급상승 #중꺾마\"\n",
        "]\n",
        "\n",
        "context = article.text.split('\\n')\n",
        "context += additional_info"
      ],
      "metadata": {
        "id": "1ukEaMYWewrm"
      },
      "execution_count": null,
      "outputs": []
    },
    {
      "cell_type": "markdown",
      "source": [
        "따라서, 우리가 전처리해야할 대상 코퍼스는 다음과 같습니다."
      ],
      "metadata": {
        "id": "ehGu-Ymfa8Jp"
      }
    },
    {
      "cell_type": "code",
      "source": [
        "for i, text in enumerate(context):\n",
        "  print(i, text)"
      ],
      "metadata": {
        "colab": {
          "base_uri": "https://localhost:8080/"
        },
        "id": "rv2VGX1texpS",
        "outputId": "f5b477c8-1b7e-4be7-9db5-f79b1835d7bd"
      },
      "execution_count": null,
      "outputs": [
        {
          "output_type": "stream",
          "name": "stdout",
          "text": [
            "0 ※ 위키트리가 선보이는 영상 뉴스가 유튜브 '뉴스마켓'을 통해 독자 여러분과 만납니다. '뉴스마켓'은 쉽고 빠르게 실시간 뉴스를 영상으로 접할 수 있는 채널로, 앞으로 더 알차고 좋은 내용으로 꾸려나갈 예정입니다. ☞ 유튜브 '뉴스마켓' 구독하기\n",
            "1 \n",
            "2 이하 유튜브 '뉴스마켓'\n",
            "3 \n",
            "4 주가, 부동산 폭락, 환율 급상승 등 우울한 일로 가득했던 2022년, 월드컵에서 등장한 이 문장이 대한민국을 사로잡았습니다. 바로 ‘중요한 것은 꺾이지 않는 마음’인데요.\n",
            "5 \n",
            "6 암울한 현실 상황으로 인해 한 해 동안 유행어는 대부분 냉소적인 내용들로 이루어져 있었지만, ‘중요한 건 꺾이지 않는 마음’의 긍정적인 의미는 인터넷을 넘어 방송, 정치 등으로 뻗어나갔니다. 일부에서는 너무 남용되어 금방 힘이 꺾일 것이라는 전망도 나오는데요.\n",
            "7 \n",
            "8 희망과 노력의 가치를 일깨워 준 유행어 \"꺾이지 않는 마음\"은 모두가 힘들었던 2022년 겨울, 뜨거웠던 카타르 월드컵의 추억을 앞으로도 계속 떠올리게 해줄 것 같습니다.\n",
            "9 영상취재 홍길동(hongkildong@chosun.com) 제주방송 임꺽정 홍길동(hongkildong@chosun.com)\n",
            "10 <h1>중요한 것은       꺾이지     않는 마음</h1> <h3>카타르 월드컵</h3> <b>유행어</b>로 이루어진    문서입니다.<br>이 줄은 실제 뉴스에 포함되지 않은 임시 데이터임을 알립니다…<br>\n",
            "11 Copyright ⓒ JIBS. All rights reserved. 무단 전재 및 재배포 금지.\n",
            "12 <이 기사는 언론사 에서 문화 섹션 으로 분류 했습 니다.>\n",
            "13 <br>이 줄은 실제 뉴스에 포함되지 않은 임시 데이터임을 알립니다…<br>\n",
            "14 #주가 #부동산 #폭락 #환률 #급상승 #중꺾마\n"
          ]
        }
      ]
    },
    {
      "cell_type": "markdown",
      "source": [
        "## 2. 정제(Cleaning)"
      ],
      "metadata": {
        "id": "BUoaAr0Wams4"
      }
    },
    {
      "cell_type": "markdown",
      "source": [
        "정제(Cleaning) 단계에서는 학습에 필요하지 않은 데이터를 제거하거나 필터링하는 일련의 과정들을 진행합니다."
      ],
      "metadata": {
        "id": "avwwQYmtasAX"
      }
    },
    {
      "cell_type": "markdown",
      "source": [
        "### 2.1. 불용어(stopwords) 제거"
      ],
      "metadata": {
        "id": "Zk1e2XpIcDqx"
      }
    },
    {
      "cell_type": "markdown",
      "source": [
        "영어가 아닌 한국어에서 불용어 제거 작업은 보통, 토큰화 과정과 형태소 분석을 거친 이후 조사나 어미를 제거하는 방식으로 진행됩니다.\n",
        "\n",
        "하지만, 사전에 추가적으로 제거하고 싶은 불용어들을 사전에 넣어서 별도로 필터링할 수 있습니다."
      ],
      "metadata": {
        "id": "zE9IzpG2c3FC"
      }
    },
    {
      "cell_type": "code",
      "source": [
        "# 불용어 사전 정의\n",
        "stopwords = ['이하', '바로', '☞', '※', '…']\n",
        "\n",
        "# 불용어 제거\n",
        "def delete_stopwords(context):\n",
        "    preprocessed_text = []\n",
        "    for text in context:\n",
        "        text = [w for w in text.split(' ') if w not in stopwords]\n",
        "        preprocessed_text.append(' '.join(text))\n",
        "    return preprocessed_text"
      ],
      "metadata": {
        "id": "0DO0bD1kfvDl"
      },
      "execution_count": null,
      "outputs": []
    },
    {
      "cell_type": "code",
      "source": [
        "processed_context = delete_stopwords(context)"
      ],
      "metadata": {
        "id": "b6RkTNZMg2LY"
      },
      "execution_count": null,
      "outputs": []
    },
    {
      "cell_type": "code",
      "source": [
        "for i, text in enumerate(processed_context):\n",
        "    print(i, text)"
      ],
      "metadata": {
        "colab": {
          "base_uri": "https://localhost:8080/"
        },
        "id": "mHmhd3nefv0S",
        "outputId": "b053fd1a-894b-4b8d-e2bf-73a17ec2caa3"
      },
      "execution_count": null,
      "outputs": [
        {
          "output_type": "stream",
          "name": "stdout",
          "text": [
            "0 위키트리가 선보이는 영상 뉴스가 유튜브 '뉴스마켓'을 통해 독자 여러분과 만납니다. '뉴스마켓'은 쉽고 빠르게 실시간 뉴스를 영상으로 접할 수 있는 채널로, 앞으로 더 알차고 좋은 내용으로 꾸려나갈 예정입니다. 유튜브 '뉴스마켓' 구독하기\n",
            "1 \n",
            "2 유튜브 '뉴스마켓'\n",
            "3 \n",
            "4 주가, 부동산 폭락, 환율 급상승 등 우울한 일로 가득했던 2022년, 월드컵에서 등장한 이 문장이 대한민국을 사로잡았습니다. ‘중요한 것은 꺾이지 않는 마음’인데요.\n",
            "5 \n",
            "6 암울한 현실 상황으로 인해 한 해 동안 유행어는 대부분 냉소적인 내용들로 이루어져 있었지만, ‘중요한 건 꺾이지 않는 마음’의 긍정적인 의미는 인터넷을 넘어 방송, 정치 등으로 뻗어나갔니다. 일부에서는 너무 남용되어 금방 힘이 꺾일 것이라는 전망도 나오는데요.\n",
            "7 \n",
            "8 희망과 노력의 가치를 일깨워 준 유행어 \"꺾이지 않는 마음\"은 모두가 힘들었던 2022년 겨울, 뜨거웠던 카타르 월드컵의 추억을 앞으로도 계속 떠올리게 해줄 것 같습니다.\n",
            "9 영상취재 홍길동(hongkildong@chosun.com) 제주방송 임꺽정 홍길동(hongkildong@chosun.com)\n",
            "10 <h1>중요한 것은       꺾이지     않는 마음</h1> <h3>카타르 월드컵</h3> <b>유행어</b>로 이루어진    문서입니다.<br>이 줄은 실제 뉴스에 포함되지 않은 임시 데이터임을 알립니다…<br>\n",
            "11 Copyright ⓒ JIBS. All rights reserved. 무단 전재 및 재배포 금지.\n",
            "12 <이 기사는 언론사 에서 문화 섹션 으로 분류 했습 니다.>\n",
            "13 <br>이 줄은 실제 뉴스에 포함되지 않은 임시 데이터임을 알립니다…<br>\n",
            "14 #주가 #부동산 #폭락 #환률 #급상승 #중꺾마\n"
          ]
        }
      ]
    },
    {
      "cell_type": "markdown",
      "source": [
        "### 2.2. HTML 태그 제거"
      ],
      "metadata": {
        "id": "Cj2tli2PcGLG"
      }
    },
    {
      "cell_type": "markdown",
      "source": [
        "다음으로 무분별하게 부착되어 있는 HTML 태그들부터 제거해볼게요.\n",
        "\n",
        "HTML 태그는 웹 크롤링을 하면 많이 딸려오기 때문에 학습에 필요하지 않다면 제거해줘야 합니다."
      ],
      "metadata": {
        "id": "RfxsfJHla19f"
      }
    },
    {
      "cell_type": "code",
      "source": [
        "import re"
      ],
      "metadata": {
        "id": "2S8G2W6ae0Co"
      },
      "execution_count": null,
      "outputs": []
    },
    {
      "cell_type": "code",
      "source": [
        "# HTML 태그를 제거하여 반환합니다.\n",
        "def delete_html_tag(context):\n",
        "  \"\"\"\n",
        "  ex. <h1>뉴스 제목</h1> -> 뉴스 제목\n",
        "  \"\"\"\n",
        "  preprcessed_text = []\n",
        "\n",
        "  for text in context:\n",
        "      text = re.sub(r\"<[^>]+>\\s+(?=<)|<[^>]+>\", \"\", text).strip()\n",
        "      if text:\n",
        "          preprcessed_text.append(text)\n",
        "  return preprcessed_text"
      ],
      "metadata": {
        "id": "brum7rePe0u5"
      },
      "execution_count": null,
      "outputs": []
    },
    {
      "cell_type": "code",
      "source": [
        "processed_context = delete_html_tag(processed_context)"
      ],
      "metadata": {
        "id": "XeiZEyx1gziP"
      },
      "execution_count": null,
      "outputs": []
    },
    {
      "cell_type": "code",
      "source": [
        "for i, text in enumerate(processed_context):\n",
        "    print(i, text)"
      ],
      "metadata": {
        "colab": {
          "base_uri": "https://localhost:8080/"
        },
        "id": "18IeSP7He1il",
        "outputId": "4c46132e-1c4a-4291-db7d-2b706fa800a7"
      },
      "execution_count": null,
      "outputs": [
        {
          "output_type": "stream",
          "name": "stdout",
          "text": [
            "0 위키트리가 선보이는 영상 뉴스가 유튜브 '뉴스마켓'을 통해 독자 여러분과 만납니다. '뉴스마켓'은 쉽고 빠르게 실시간 뉴스를 영상으로 접할 수 있는 채널로, 앞으로 더 알차고 좋은 내용으로 꾸려나갈 예정입니다. 유튜브 '뉴스마켓' 구독하기\n",
            "1 유튜브 '뉴스마켓'\n",
            "2 주가, 부동산 폭락, 환율 급상승 등 우울한 일로 가득했던 2022년, 월드컵에서 등장한 이 문장이 대한민국을 사로잡았습니다. ‘중요한 것은 꺾이지 않는 마음’인데요.\n",
            "3 암울한 현실 상황으로 인해 한 해 동안 유행어는 대부분 냉소적인 내용들로 이루어져 있었지만, ‘중요한 건 꺾이지 않는 마음’의 긍정적인 의미는 인터넷을 넘어 방송, 정치 등으로 뻗어나갔니다. 일부에서는 너무 남용되어 금방 힘이 꺾일 것이라는 전망도 나오는데요.\n",
            "4 희망과 노력의 가치를 일깨워 준 유행어 \"꺾이지 않는 마음\"은 모두가 힘들었던 2022년 겨울, 뜨거웠던 카타르 월드컵의 추억을 앞으로도 계속 떠올리게 해줄 것 같습니다.\n",
            "5 영상취재 홍길동(hongkildong@chosun.com) 제주방송 임꺽정 홍길동(hongkildong@chosun.com)\n",
            "6 중요한 것은       꺾이지     않는 마음카타르 월드컵유행어로 이루어진    문서입니다.이 줄은 실제 뉴스에 포함되지 않은 임시 데이터임을 알립니다…\n",
            "7 Copyright ⓒ JIBS. All rights reserved. 무단 전재 및 재배포 금지.\n",
            "8 이 줄은 실제 뉴스에 포함되지 않은 임시 데이터임을 알립니다…\n",
            "9 #주가 #부동산 #폭락 #환률 #급상승 #중꺾마\n"
          ]
        }
      ]
    },
    {
      "cell_type": "markdown",
      "source": [
        "### 2.3. 문장 분리"
      ],
      "metadata": {
        "id": "UhkrttU3e2rI"
      }
    },
    {
      "cell_type": "markdown",
      "source": [
        "다음으로, 한 행에 여러 문장이 있으면, 학습 데이터를 구성할 때 입력 데이터의 단위를 설정하기 애매해지므로,\n",
        "\n",
        "문장 단위로 모델이 학습하도록 유도하기 위해, 문장 분리를 먼저 해주겠습니다.  \n",
        "\n",
        "한국어 문장분리기 중, 가장 성능이 우수한 것으로 알려진 [kss 라이브러리](https://github.com/hyunwoongko/kss)를 사용합니다."
      ],
      "metadata": {
        "id": "yr0l8tjXe4wm"
      }
    },
    {
      "cell_type": "code",
      "source": [
        "!pip install kss"
      ],
      "metadata": {
        "colab": {
          "base_uri": "https://localhost:8080/"
        },
        "id": "5L_U-3e6e5na",
        "outputId": "c8ed1561-841e-4c0b-f0fd-54ff54bbc8c0"
      },
      "execution_count": null,
      "outputs": [
        {
          "output_type": "stream",
          "name": "stdout",
          "text": [
            "Looking in indexes: https://pypi.org/simple, https://us-python.pkg.dev/colab-wheels/public/simple/\n",
            "Collecting kss\n",
            "  Downloading kss-4.3.1.tar.gz (75 kB)\n",
            "\u001b[2K     \u001b[90m━━━━━━━━━━━━━━━━━━━━━━━━━━━━━━━━━━━━━━━━\u001b[0m \u001b[32m75.5/75.5 KB\u001b[0m \u001b[31m3.4 MB/s\u001b[0m eta \u001b[36m0:00:00\u001b[0m\n",
            "\u001b[?25h  Preparing metadata (setup.py) ... \u001b[?25l\u001b[?25hdone\n",
            "Collecting emoji==1.2.0\n",
            "  Downloading emoji-1.2.0-py3-none-any.whl (131 kB)\n",
            "\u001b[2K     \u001b[90m━━━━━━━━━━━━━━━━━━━━━━━━━━━━━━━━━━━━━━━\u001b[0m \u001b[32m131.3/131.3 KB\u001b[0m \u001b[31m7.9 MB/s\u001b[0m eta \u001b[36m0:00:00\u001b[0m\n",
            "\u001b[?25hRequirement already satisfied: regex in /usr/local/lib/python3.8/dist-packages (from kss) (2022.6.2)\n",
            "Collecting pecab\n",
            "  Downloading pecab-1.0.8.tar.gz (26.4 MB)\n",
            "\u001b[2K     \u001b[90m━━━━━━━━━━━━━━━━━━━━━━━━━━━━━━━━━━━━━━━━\u001b[0m \u001b[32m26.4/26.4 MB\u001b[0m \u001b[31m43.9 MB/s\u001b[0m eta \u001b[36m0:00:00\u001b[0m\n",
            "\u001b[?25h  Preparing metadata (setup.py) ... \u001b[?25l\u001b[?25hdone\n",
            "Requirement already satisfied: networkx in /usr/local/lib/python3.8/dist-packages (from kss) (2.8.8)\n",
            "Requirement already satisfied: numpy in /usr/local/lib/python3.8/dist-packages (from pecab->kss) (1.21.6)\n",
            "Requirement already satisfied: pyarrow in /usr/local/lib/python3.8/dist-packages (from pecab->kss) (9.0.0)\n",
            "Requirement already satisfied: pytest in /usr/local/lib/python3.8/dist-packages (from pecab->kss) (3.6.4)\n",
            "Requirement already satisfied: attrs>=17.4.0 in /usr/local/lib/python3.8/dist-packages (from pytest->pecab->kss) (22.2.0)\n",
            "Requirement already satisfied: six>=1.10.0 in /usr/local/lib/python3.8/dist-packages (from pytest->pecab->kss) (1.15.0)\n",
            "Requirement already satisfied: more-itertools>=4.0.0 in /usr/local/lib/python3.8/dist-packages (from pytest->pecab->kss) (9.0.0)\n",
            "Requirement already satisfied: atomicwrites>=1.0 in /usr/local/lib/python3.8/dist-packages (from pytest->pecab->kss) (1.4.1)\n",
            "Requirement already satisfied: setuptools in /usr/local/lib/python3.8/dist-packages (from pytest->pecab->kss) (57.4.0)\n",
            "Requirement already satisfied: py>=1.5.0 in /usr/local/lib/python3.8/dist-packages (from pytest->pecab->kss) (1.11.0)\n",
            "Requirement already satisfied: pluggy<0.8,>=0.5 in /usr/local/lib/python3.8/dist-packages (from pytest->pecab->kss) (0.7.1)\n",
            "Building wheels for collected packages: kss, pecab\n",
            "  Building wheel for kss (setup.py) ... \u001b[?25l\u001b[?25hdone\n",
            "  Created wheel for kss: filename=kss-4.3.1-py3-none-any.whl size=52145 sha256=52a8a17e2e08e590607f3874d038d6061731479f85a133ecf30169053820bbe8\n",
            "  Stored in directory: /root/.cache/pip/wheels/40/6e/54/257ecc4412c109490a93e8d3e729aab9d78bde856b3e969e67\n",
            "  Building wheel for pecab (setup.py) ... \u001b[?25l\u001b[?25hdone\n",
            "  Created wheel for pecab: filename=pecab-1.0.8-py3-none-any.whl size=26646667 sha256=2fa8d5f7cc0c5a0d4218f52ac436200b58a1949c8bd8a43840d5df7fc61e082b\n",
            "  Stored in directory: /root/.cache/pip/wheels/a9/98/a3/085a909aa25805f321467a3af3b80d43b6094ed335b4818775\n",
            "Successfully built kss pecab\n",
            "Installing collected packages: emoji, pecab, kss\n",
            "Successfully installed emoji-1.2.0 kss-4.3.1 pecab-1.0.8\n"
          ]
        }
      ]
    },
    {
      "cell_type": "code",
      "source": [
        "import kss"
      ],
      "metadata": {
        "id": "s0IJQ7pve6rn"
      },
      "execution_count": null,
      "outputs": []
    },
    {
      "cell_type": "code",
      "source": [
        "# 한 줄 단위로 문장 분리를 진행\n",
        "def sentence_seperator(processed_context):\n",
        "  splited_context = []\n",
        "\n",
        "  for text in processed_context:\n",
        "      text = text.strip()\n",
        "      if text:\n",
        "          splited_text = kss.split_sentences(text)\n",
        "          splited_context.extend(splited_text)\n",
        "\n",
        "  return splited_context"
      ],
      "metadata": {
        "id": "blQBmMxle7b_"
      },
      "execution_count": null,
      "outputs": []
    },
    {
      "cell_type": "code",
      "source": [
        "splited_context = sentence_seperator(processed_context)"
      ],
      "metadata": {
        "id": "eWfVc0wKe8QA",
        "colab": {
          "base_uri": "https://localhost:8080/"
        },
        "outputId": "94f6b3b3-e443-424e-8a3e-f793f823071b"
      },
      "execution_count": null,
      "outputs": [
        {
          "output_type": "stream",
          "name": "stderr",
          "text": [
            "WARNING:root:Oh! You have mecab in your environment. Kss will take this as a backend! :D\n",
            "\n"
          ]
        }
      ]
    },
    {
      "cell_type": "code",
      "source": [
        "for i, sent in enumerate(splited_context):\n",
        "    print(i, sent)"
      ],
      "metadata": {
        "colab": {
          "base_uri": "https://localhost:8080/"
        },
        "id": "6-vtiSZWj3On",
        "outputId": "b50989ef-59a7-4841-fe72-9d07d51fd75b"
      },
      "execution_count": null,
      "outputs": [
        {
          "output_type": "stream",
          "name": "stdout",
          "text": [
            "0 위키트리가 선보이는 영상 뉴스가 유튜브 '뉴스마켓'을 통해 독자 여러분과 만납니다.\n",
            "1 '뉴스마켓'은 쉽고 빠르게 실시간 뉴스를 영상으로 접할 수 있는 채널로, 앞으로 더 알차고 좋은 내용으로 꾸려나갈 예정입니다.\n",
            "2 유튜브 '뉴스마켓' 구독하기\n",
            "3 유튜브 '뉴스마켓'\n",
            "4 주가, 부동산 폭락, 환율 급상승 등 우울한 일로 가득했던 2022년, 월드컵에서 등장한 이 문장이 대한민국을 사로잡았습니다.\n",
            "5 ‘중요한 것은 꺾이지 않는 마음’인데요.\n",
            "6 암울한 현실 상황으로 인해 한 해 동안 유행어는 대부분 냉소적인 내용들로 이루어져 있었지만, ‘중요한 건 꺾이지 않는 마음’의 긍정적인 의미는 인터넷을 넘어 방송, 정치 등으로 뻗어나갔니다.\n",
            "7 일부에서는 너무 남용되어 금방 힘이 꺾일 것이라는 전망도 나오는데요.\n",
            "8 희망과 노력의 가치를 일깨워 준 유행어 \"꺾이지 않는 마음\"은 모두가 힘들었던 2022년 겨울, 뜨거웠던 카타르 월드컵의 추억을 앞으로도 계속 떠올리게 해줄 것 같습니다.\n",
            "9 영상취재 홍길동(hongkildong@chosun.com) 제주방송 임꺽정 홍길동(hongkildong@chosun.com)\n",
            "10 중요한 것은       꺾이지     않는 마음카타르 월드컵유행어로 이루어진    문서입니다.\n",
            "11 이 줄은 실제 뉴스에 포함되지 않은 임시 데이터임을 알립니다…\n",
            "12 Copyright ⓒ JIBS.\n",
            "13 All rights reserved.\n",
            "14 무단 전재 및 재배포 금지.\n",
            "15 이 줄은 실제 뉴스에 포함되지 않은 임시 데이터임을 알립니다…\n",
            "16 #주가 #부동산 #폭락 #환률 #급상승 #중꺾마\n"
          ]
        }
      ]
    },
    {
      "cell_type": "markdown",
      "source": [
        "### 2.4. 이메일 제거"
      ],
      "metadata": {
        "id": "RhParu8biHbn"
      }
    },
    {
      "cell_type": "code",
      "source": [
        "# 코퍼스 내 이메일을 제거합니다.\n",
        "def delete_email(context):\n",
        "  \"\"\"\n",
        "  ex. 홍길동(hongkildong@chosun.com) -> 홍길동()\n",
        "  \"\"\"\n",
        "  preprocessed_text = []\n",
        "  for text in context:\n",
        "    text = re.sub(r\"[a-zA-Z0-9+-_.]+@[a-zA-Z0-9-]+\\.[a-zA-Z0-9-.]+\", \"\", text).strip()\n",
        "    if text:\n",
        "      preprocessed_text.append(text)\n",
        "  return preprocessed_text"
      ],
      "metadata": {
        "id": "9bLMHQJBe-RO"
      },
      "execution_count": null,
      "outputs": []
    },
    {
      "cell_type": "code",
      "source": [
        "preprocessed_context = delete_email(splited_context)"
      ],
      "metadata": {
        "id": "tYsR3INgjSFr"
      },
      "execution_count": null,
      "outputs": []
    },
    {
      "cell_type": "code",
      "source": [
        "for i, text in enumerate(preprocessed_context):\n",
        "    print(i, text)"
      ],
      "metadata": {
        "id": "0A-7f0NHfBtj",
        "colab": {
          "base_uri": "https://localhost:8080/"
        },
        "outputId": "0b3fb9af-6bf6-407e-d824-ae687fb981b8"
      },
      "execution_count": null,
      "outputs": [
        {
          "output_type": "stream",
          "name": "stdout",
          "text": [
            "0 위키트리가 선보이는 영상 뉴스가 유튜브 '뉴스마켓'을 통해 독자 여러분과 만납니다.\n",
            "1 '뉴스마켓'은 쉽고 빠르게 실시간 뉴스를 영상으로 접할 수 있는 채널로, 앞으로 더 알차고 좋은 내용으로 꾸려나갈 예정입니다.\n",
            "2 유튜브 '뉴스마켓' 구독하기\n",
            "3 유튜브 '뉴스마켓'\n",
            "4 주가, 부동산 폭락, 환율 급상승 등 우울한 일로 가득했던 2022년, 월드컵에서 등장한 이 문장이 대한민국을 사로잡았습니다.\n",
            "5 ‘중요한 것은 꺾이지 않는 마음’인데요.\n",
            "6 암울한 현실 상황으로 인해 한 해 동안 유행어는 대부분 냉소적인 내용들로 이루어져 있었지만, ‘중요한 건 꺾이지 않는 마음’의 긍정적인 의미는 인터넷을 넘어 방송, 정치 등으로 뻗어나갔니다.\n",
            "7 일부에서는 너무 남용되어 금방 힘이 꺾일 것이라는 전망도 나오는데요.\n",
            "8 희망과 노력의 가치를 일깨워 준 유행어 \"꺾이지 않는 마음\"은 모두가 힘들었던 2022년 겨울, 뜨거웠던 카타르 월드컵의 추억을 앞으로도 계속 떠올리게 해줄 것 같습니다.\n",
            "9 영상취재 홍길동() 제주방송 임꺽정 홍길동()\n",
            "10 중요한 것은       꺾이지     않는 마음카타르 월드컵유행어로 이루어진    문서입니다.\n",
            "11 이 줄은 실제 뉴스에 포함되지 않은 임시 데이터임을 알립니다…\n",
            "12 Copyright ⓒ JIBS.\n",
            "13 All rights reserved.\n",
            "14 무단 전재 및 재배포 금지.\n",
            "15 이 줄은 실제 뉴스에 포함되지 않은 임시 데이터임을 알립니다…\n",
            "16 #주가 #부동산 #폭락 #환률 #급상승 #중꺾마\n"
          ]
        }
      ]
    },
    {
      "cell_type": "markdown",
      "source": [
        "### 2.5. 해시태그 제거"
      ],
      "metadata": {
        "id": "smkxdKnNiONJ"
      }
    },
    {
      "cell_type": "code",
      "source": [
        "# 코퍼스 내 해시태그(#)를 제거합니다.\n",
        "def delete_hashtag(context):\n",
        "  \"\"\"\n",
        "  ex. #주가 #부동산 -> 주가 부동산\n",
        "  \"\"\"\n",
        "  preprocessed_text = []\n",
        "  for text in context:\n",
        "    text = re.sub(r\"#\\S+\", \"\", text).strip()\n",
        "    if text:\n",
        "      preprocessed_text.append(text)\n",
        "  return preprocessed_text"
      ],
      "metadata": {
        "id": "mLdSLbm1fCnI"
      },
      "execution_count": null,
      "outputs": []
    },
    {
      "cell_type": "code",
      "source": [
        "preprocessed_context = delete_hashtag(preprocessed_context)"
      ],
      "metadata": {
        "id": "PUMEus40fDTJ"
      },
      "execution_count": null,
      "outputs": []
    },
    {
      "cell_type": "code",
      "source": [
        "for i, text in enumerate(preprocessed_context):\n",
        "    print(i, text)"
      ],
      "metadata": {
        "id": "pUrJZzMUjRCQ",
        "colab": {
          "base_uri": "https://localhost:8080/"
        },
        "outputId": "10c9dd43-a318-4af9-ee9c-b7d81a3680cb"
      },
      "execution_count": null,
      "outputs": [
        {
          "output_type": "stream",
          "name": "stdout",
          "text": [
            "0 위키트리가 선보이는 영상 뉴스가 유튜브 '뉴스마켓'을 통해 독자 여러분과 만납니다.\n",
            "1 '뉴스마켓'은 쉽고 빠르게 실시간 뉴스를 영상으로 접할 수 있는 채널로, 앞으로 더 알차고 좋은 내용으로 꾸려나갈 예정입니다.\n",
            "2 유튜브 '뉴스마켓' 구독하기\n",
            "3 유튜브 '뉴스마켓'\n",
            "4 주가, 부동산 폭락, 환율 급상승 등 우울한 일로 가득했던 2022년, 월드컵에서 등장한 이 문장이 대한민국을 사로잡았습니다.\n",
            "5 ‘중요한 것은 꺾이지 않는 마음’인데요.\n",
            "6 암울한 현실 상황으로 인해 한 해 동안 유행어는 대부분 냉소적인 내용들로 이루어져 있었지만, ‘중요한 건 꺾이지 않는 마음’의 긍정적인 의미는 인터넷을 넘어 방송, 정치 등으로 뻗어나갔니다.\n",
            "7 일부에서는 너무 남용되어 금방 힘이 꺾일 것이라는 전망도 나오는데요.\n",
            "8 희망과 노력의 가치를 일깨워 준 유행어 \"꺾이지 않는 마음\"은 모두가 힘들었던 2022년 겨울, 뜨거웠던 카타르 월드컵의 추억을 앞으로도 계속 떠올리게 해줄 것 같습니다.\n",
            "9 영상취재 홍길동() 제주방송 임꺽정 홍길동()\n",
            "10 중요한 것은       꺾이지     않는 마음카타르 월드컵유행어로 이루어진    문서입니다.\n",
            "11 이 줄은 실제 뉴스에 포함되지 않은 임시 데이터임을 알립니다…\n",
            "12 Copyright ⓒ JIBS.\n",
            "13 All rights reserved.\n",
            "14 무단 전재 및 재배포 금지.\n",
            "15 이 줄은 실제 뉴스에 포함되지 않은 임시 데이터임을 알립니다…\n"
          ]
        }
      ]
    },
    {
      "cell_type": "markdown",
      "source": [
        "### 2.6. 기타 학습에 필요 없는 데이터 제거"
      ],
      "metadata": {
        "id": "-7bjG1bpiXMm"
      }
    },
    {
      "cell_type": "code",
      "source": [
        "# 뉴스 내 포함된 저작권 관련 텍스트를 제거\n",
        "def delete_copyright(context):\n",
        "  re_patterns = [\n",
        "    r\"\\<저작권자(\\(c\\)|ⓒ|©|\\(Copyright\\)|(\\(c\\))|(\\(C\\))).+?\\>\",\n",
        "    r\"저작권자\\(c\\)|ⓒ|©|(Copyright)|(\\(c\\))|(\\(C\\))\"\n",
        "  ]\n",
        "  preprocessed_text = []\n",
        "  for text in context:\n",
        "    for re_pattern in re_patterns:\n",
        "      text = re.sub(re_pattern, \"\", text).strip()\n",
        "    if text:\n",
        "      preprocessed_text.append(text)\n",
        "  return preprocessed_text"
      ],
      "metadata": {
        "id": "sR4d4zUcfK0V"
      },
      "execution_count": null,
      "outputs": []
    },
    {
      "cell_type": "code",
      "source": [
        "preprocessed_context = delete_copyright(preprocessed_context)"
      ],
      "metadata": {
        "id": "FPpQ6jI_fL-0"
      },
      "execution_count": null,
      "outputs": []
    },
    {
      "cell_type": "code",
      "source": [
        "for i, text in enumerate(preprocessed_context):\n",
        "    print(i, text)"
      ],
      "metadata": {
        "id": "sq4FW2lzklga",
        "colab": {
          "base_uri": "https://localhost:8080/"
        },
        "outputId": "16fe3bb5-20ee-4b4a-fa1f-a1d2b180cfdf"
      },
      "execution_count": null,
      "outputs": [
        {
          "output_type": "stream",
          "name": "stdout",
          "text": [
            "0 위키트리가 선보이는 영상 뉴스가 유튜브 '뉴스마켓'을 통해 독자 여러분과 만납니다.\n",
            "1 '뉴스마켓'은 쉽고 빠르게 실시간 뉴스를 영상으로 접할 수 있는 채널로, 앞으로 더 알차고 좋은 내용으로 꾸려나갈 예정입니다.\n",
            "2 유튜브 '뉴스마켓' 구독하기\n",
            "3 유튜브 '뉴스마켓'\n",
            "4 주가, 부동산 폭락, 환율 급상승 등 우울한 일로 가득했던 2022년, 월드컵에서 등장한 이 문장이 대한민국을 사로잡았습니다.\n",
            "5 ‘중요한 것은 꺾이지 않는 마음’인데요.\n",
            "6 암울한 현실 상황으로 인해 한 해 동안 유행어는 대부분 냉소적인 내용들로 이루어져 있었지만, ‘중요한 건 꺾이지 않는 마음’의 긍정적인 의미는 인터넷을 넘어 방송, 정치 등으로 뻗어나갔니다.\n",
            "7 일부에서는 너무 남용되어 금방 힘이 꺾일 것이라는 전망도 나오는데요.\n",
            "8 희망과 노력의 가치를 일깨워 준 유행어 \"꺾이지 않는 마음\"은 모두가 힘들었던 2022년 겨울, 뜨거웠던 카타르 월드컵의 추억을 앞으로도 계속 떠올리게 해줄 것 같습니다.\n",
            "9 영상취재 홍길동() 제주방송 임꺽정 홍길동()\n",
            "10 중요한 것은       꺾이지     않는 마음카타르 월드컵유행어로 이루어진    문서입니다.\n",
            "11 이 줄은 실제 뉴스에 포함되지 않은 임시 데이터임을 알립니다…\n",
            "12 JIBS.\n",
            "13 All rights reserved.\n",
            "14 무단 전재 및 재배포 금지.\n",
            "15 이 줄은 실제 뉴스에 포함되지 않은 임시 데이터임을 알립니다…\n"
          ]
        }
      ]
    },
    {
      "cell_type": "markdown",
      "source": [
        "### 실습1. 한국어 데이터 정제(cleaning) 실습"
      ],
      "metadata": {
        "id": "vhzArbOGkxs-"
      }
    },
    {
      "cell_type": "markdown",
      "source": [
        "추가로, 정제가 필요한 항목이 있다면, 여러분이 텍스트를 정제하고 확인해보세요!"
      ],
      "metadata": {
        "id": "xwFyKJGJk1vY"
      }
    },
    {
      "cell_type": "code",
      "source": [
        "# Free Trial 1\n",
        "\n",
        "\n",
        "\n",
        "\n",
        "\n",
        "\n",
        "\n",
        "\n",
        "\n",
        "\n"
      ],
      "metadata": {
        "id": "vTtNUt0Wk81X"
      },
      "execution_count": null,
      "outputs": []
    },
    {
      "cell_type": "markdown",
      "source": [
        "## 3. 정규화 (Normalizing)"
      ],
      "metadata": {
        "id": "YPbrJEqNe-wu"
      }
    },
    {
      "cell_type": "markdown",
      "source": [
        "정규화(Normalizing) 단계는 코퍼스 내에 표현 방법이 다른 단어들을 통합시켜서 같은 단어로 만들어주는 단계입니다."
      ],
      "metadata": {
        "id": "Rn24JM_jhw2d"
      }
    },
    {
      "cell_type": "markdown",
      "source": [
        "정규화 과정에는 [Soynlp](https://github.com/lovit/soynlp)를 활용해보겠습니다."
      ],
      "metadata": {
        "id": "ImbN_9YAlE-Y"
      }
    },
    {
      "cell_type": "code",
      "source": [
        "!pip install soynlp"
      ],
      "metadata": {
        "id": "Y88ZRp4yfQQm",
        "colab": {
          "base_uri": "https://localhost:8080/"
        },
        "outputId": "45875789-ea31-448d-8ba8-dae1702bf10a"
      },
      "execution_count": null,
      "outputs": [
        {
          "output_type": "stream",
          "name": "stdout",
          "text": [
            "Looking in indexes: https://pypi.org/simple, https://us-python.pkg.dev/colab-wheels/public/simple/\n",
            "Collecting soynlp\n",
            "  Downloading soynlp-0.0.493-py3-none-any.whl (416 kB)\n",
            "\u001b[2K     \u001b[90m━━━━━━━━━━━━━━━━━━━━━━━━━━━━━━━━━━━━━━━\u001b[0m \u001b[32m416.8/416.8 KB\u001b[0m \u001b[31m8.6 MB/s\u001b[0m eta \u001b[36m0:00:00\u001b[0m\n",
            "\u001b[?25hRequirement already satisfied: numpy>=1.12.1 in /usr/local/lib/python3.8/dist-packages (from soynlp) (1.21.6)\n",
            "Requirement already satisfied: scikit-learn>=0.20.0 in /usr/local/lib/python3.8/dist-packages (from soynlp) (1.0.2)\n",
            "Requirement already satisfied: scipy>=1.1.0 in /usr/local/lib/python3.8/dist-packages (from soynlp) (1.7.3)\n",
            "Requirement already satisfied: psutil>=5.0.1 in /usr/local/lib/python3.8/dist-packages (from soynlp) (5.4.8)\n",
            "Requirement already satisfied: threadpoolctl>=2.0.0 in /usr/local/lib/python3.8/dist-packages (from scikit-learn>=0.20.0->soynlp) (3.1.0)\n",
            "Requirement already satisfied: joblib>=0.11 in /usr/local/lib/python3.8/dist-packages (from scikit-learn>=0.20.0->soynlp) (1.2.0)\n",
            "Installing collected packages: soynlp\n",
            "Successfully installed soynlp-0.0.493\n"
          ]
        }
      ]
    },
    {
      "cell_type": "markdown",
      "source": [
        "### 3.1. 반복 횟수가 너무 많은 문자 정규화"
      ],
      "metadata": {
        "id": "P0KM-nbBlWR6"
      }
    },
    {
      "cell_type": "code",
      "source": [
        "from soynlp.normalizer import *"
      ],
      "metadata": {
        "id": "Vg8yMwbSfQ-M"
      },
      "execution_count": null,
      "outputs": []
    },
    {
      "cell_type": "code",
      "source": [
        "print(repeat_normalize('ㅋㅋㅋㅋㅋㅋㅋㅋㅋㅋㅋㅋㅋㅋ', num_repeats=2))\n",
        "print(repeat_normalize('얔ㅋㅋㅋㅋㅋㅋㅋ 너 ㅋㅋㅋㅋ 지금 뭐하냐 ㅠㅠㅠㅠ', num_repeats=2))"
      ],
      "metadata": {
        "colab": {
          "base_uri": "https://localhost:8080/"
        },
        "id": "qTseyM7LlyRw",
        "outputId": "b90a9866-1014-4337-f06e-f330120d8726"
      },
      "execution_count": null,
      "outputs": [
        {
          "output_type": "stream",
          "name": "stdout",
          "text": [
            "ㅋㅋ\n",
            "얔ㅋㅋ 너 ㅋㅋ 지금 뭐하냐 ㅠㅠ\n"
          ]
        }
      ]
    },
    {
      "cell_type": "code",
      "source": [
        "# 반복되는 문자 정규화\n",
        "def repeat_char_nomalizer(context):\n",
        "  normalized_text = []\n",
        "  for text in context:\n",
        "    text = repeat_normalize(text, num_repeats=2).strip()\n",
        "    if text:\n",
        "      normalized_text.append(text)\n",
        "  return normalized_text"
      ],
      "metadata": {
        "id": "6_8gDeiDfRpa"
      },
      "execution_count": null,
      "outputs": []
    },
    {
      "cell_type": "code",
      "source": [
        "normalized_context = repeat_char_nomalizer(preprocessed_context)"
      ],
      "metadata": {
        "id": "l7gutZrrfSo2"
      },
      "execution_count": null,
      "outputs": []
    },
    {
      "cell_type": "code",
      "source": [
        "for i, text in enumerate(normalized_context):\n",
        "    print(i, text)"
      ],
      "metadata": {
        "colab": {
          "base_uri": "https://localhost:8080/"
        },
        "id": "46LnwwQwlnGk",
        "outputId": "cca80e81-f1f7-44ed-8032-9b77c611042f"
      },
      "execution_count": null,
      "outputs": [
        {
          "output_type": "stream",
          "name": "stdout",
          "text": [
            "0 위키트리가 선보이는 영상 뉴스가 유튜브 '뉴스마켓'을 통해 독자 여러분과 만납니다.\n",
            "1 '뉴스마켓'은 쉽고 빠르게 실시간 뉴스를 영상으로 접할 수 있는 채널로, 앞으로 더 알차고 좋은 내용으로 꾸려나갈 예정입니다.\n",
            "2 유튜브 '뉴스마켓' 구독하기\n",
            "3 유튜브 '뉴스마켓'\n",
            "4 주가, 부동산 폭락, 환율 급상승 등 우울한 일로 가득했던 2022년, 월드컵에서 등장한 이 문장이 대한민국을 사로잡았습니다.\n",
            "5 ‘중요한 것은 꺾이지 않는 마음’인데요.\n",
            "6 암울한 현실 상황으로 인해 한 해 동안 유행어는 대부분 냉소적인 내용들로 이루어져 있었지만, ‘중요한 건 꺾이지 않는 마음’의 긍정적인 의미는 인터넷을 넘어 방송, 정치 등으로 뻗어나갔니다.\n",
            "7 일부에서는 너무 남용되어 금방 힘이 꺾일 것이라는 전망도 나오는데요.\n",
            "8 희망과 노력의 가치를 일깨워 준 유행어 \"꺾이지 않는 마음\"은 모두가 힘들었던 2022년 겨울, 뜨거웠던 카타르 월드컵의 추억을 앞으로도 계속 떠올리게 해줄 것 같습니다.\n",
            "9 영상취재 홍길동() 제주방송 임꺽정 홍길동()\n",
            "10 중요한 것은 꺾이지 않는 마음카타르 월드컵유행어로 이루어진 문서입니다.\n",
            "11 이 줄은 실제 뉴스에 포함되지 않은 임시 데이터임을 알립니다…\n",
            "12 JIBS.\n",
            "13 All rights reserved.\n",
            "14 무단 전재 및 재배포 금지.\n",
            "15 이 줄은 실제 뉴스에 포함되지 않은 임시 데이터임을 알립니다…\n"
          ]
        }
      ]
    },
    {
      "cell_type": "markdown",
      "source": [
        "### 3.2. 띄어쓰기 정규화"
      ],
      "metadata": {
        "id": "Bq2HM2vyl0mO"
      }
    },
    {
      "cell_type": "code",
      "source": [
        "# 두 개 이상의 연속된 공백을 하나로 치환합니다.\n",
        "def repeated_spacing_nomalizer(context):\n",
        "  normalized_text = []\n",
        "  for text in context:\n",
        "    text = re.sub(r\"\\s+\", \" \", text).strip()\n",
        "    if text:\n",
        "        normalized_text.append(text)\n",
        "  return normalized_text"
      ],
      "metadata": {
        "id": "9I9ovJ48fVJO"
      },
      "execution_count": null,
      "outputs": []
    },
    {
      "cell_type": "code",
      "source": [
        "normalized_context = repeated_spacing_nomalizer(normalized_context)"
      ],
      "metadata": {
        "id": "a6lk0o4zfWBQ"
      },
      "execution_count": null,
      "outputs": []
    },
    {
      "cell_type": "code",
      "source": [
        "for i, text in enumerate(normalized_context):\n",
        "    print(i, text)"
      ],
      "metadata": {
        "id": "IhmbvBR1mM8b",
        "colab": {
          "base_uri": "https://localhost:8080/"
        },
        "outputId": "3e57eb47-e460-4ae7-e000-a4870030cff1"
      },
      "execution_count": null,
      "outputs": [
        {
          "output_type": "stream",
          "name": "stdout",
          "text": [
            "0 위키트리가 선보이는 영상 뉴스가 유튜브 '뉴스마켓'을 통해 독자 여러분과 만납니다.\n",
            "1 '뉴스마켓'은 쉽고 빠르게 실시간 뉴스를 영상으로 접할 수 있는 채널로, 앞으로 더 알차고 좋은 내용으로 꾸려나갈 예정입니다.\n",
            "2 유튜브 '뉴스마켓' 구독하기\n",
            "3 유튜브 '뉴스마켓'\n",
            "4 주가, 부동산 폭락, 환율 급상승 등 우울한 일로 가득했던 2022년, 월드컵에서 등장한 이 문장이 대한민국을 사로잡았습니다.\n",
            "5 ‘중요한 것은 꺾이지 않는 마음’인데요.\n",
            "6 암울한 현실 상황으로 인해 한 해 동안 유행어는 대부분 냉소적인 내용들로 이루어져 있었지만, ‘중요한 건 꺾이지 않는 마음’의 긍정적인 의미는 인터넷을 넘어 방송, 정치 등으로 뻗어나갔니다.\n",
            "7 일부에서는 너무 남용되어 금방 힘이 꺾일 것이라는 전망도 나오는데요.\n",
            "8 희망과 노력의 가치를 일깨워 준 유행어 \"꺾이지 않는 마음\"은 모두가 힘들었던 2022년 겨울, 뜨거웠던 카타르 월드컵의 추억을 앞으로도 계속 떠올리게 해줄 것 같습니다.\n",
            "9 영상취재 홍길동() 제주방송 임꺽정 홍길동()\n",
            "10 중요한 것은 꺾이지 않는 마음카타르 월드컵유행어로 이루어진 문서입니다.\n",
            "11 이 줄은 실제 뉴스에 포함되지 않은 임시 데이터임을 알립니다…\n",
            "12 JIBS.\n",
            "13 All rights reserved.\n",
            "14 무단 전재 및 재배포 금지.\n",
            "15 이 줄은 실제 뉴스에 포함되지 않은 임시 데이터임을 알립니다…\n"
          ]
        }
      ]
    },
    {
      "cell_type": "markdown",
      "source": [
        "### 3.3. 띄어쓰기 보정"
      ],
      "metadata": {
        "id": "FBgvJdaVm9pw"
      }
    },
    {
      "cell_type": "code",
      "source": [
        "!pip install git+https://github.com/haven-jeon/PyKoSpacing.git"
      ],
      "metadata": {
        "colab": {
          "base_uri": "https://localhost:8080/",
          "height": 1000
        },
        "id": "WavHb62ufZOv",
        "outputId": "f645e2e3-9b4f-4cc1-e223-14f412f6e721"
      },
      "execution_count": null,
      "outputs": [
        {
          "output_type": "stream",
          "name": "stdout",
          "text": [
            "Looking in indexes: https://pypi.org/simple, https://us-python.pkg.dev/colab-wheels/public/simple/\n",
            "Collecting git+https://github.com/haven-jeon/PyKoSpacing.git\n",
            "  Cloning https://github.com/haven-jeon/PyKoSpacing.git to /tmp/pip-req-build-enqpcdjy\n",
            "  Running command git clone --filter=blob:none --quiet https://github.com/haven-jeon/PyKoSpacing.git /tmp/pip-req-build-enqpcdjy\n",
            "  Resolved https://github.com/haven-jeon/PyKoSpacing.git to commit 1f8d11c59ac93525432f164e4c237ece4e298691\n",
            "  Preparing metadata (setup.py) ... \u001b[?25l\u001b[?25hdone\n",
            "Collecting tensorflow==2.9.3\n",
            "  Downloading tensorflow-2.9.3-cp38-cp38-manylinux_2_17_x86_64.manylinux2014_x86_64.whl (511.8 MB)\n",
            "\u001b[2K     \u001b[90m━━━━━━━━━━━━━━━━━━━━━━━━━━━━━━━━━━━━━━━\u001b[0m \u001b[32m511.8/511.8 MB\u001b[0m \u001b[31m2.4 MB/s\u001b[0m eta \u001b[36m0:00:00\u001b[0m\n",
            "\u001b[?25hRequirement already satisfied: h5py==3.1.0 in /usr/local/lib/python3.8/dist-packages (from pykospacing==0.5) (3.1.0)\n",
            "Collecting argparse>=1.4.0\n",
            "  Downloading argparse-1.4.0-py2.py3-none-any.whl (23 kB)\n",
            "Requirement already satisfied: numpy>=1.17.5 in /usr/local/lib/python3.8/dist-packages (from h5py==3.1.0->pykospacing==0.5) (1.21.6)\n",
            "Requirement already satisfied: termcolor>=1.1.0 in /usr/local/lib/python3.8/dist-packages (from tensorflow==2.9.3->pykospacing==0.5) (2.1.1)\n",
            "Requirement already satisfied: absl-py>=1.0.0 in /usr/local/lib/python3.8/dist-packages (from tensorflow==2.9.3->pykospacing==0.5) (1.3.0)\n",
            "Requirement already satisfied: typing-extensions>=3.6.6 in /usr/local/lib/python3.8/dist-packages (from tensorflow==2.9.3->pykospacing==0.5) (4.4.0)\n",
            "Requirement already satisfied: packaging in /usr/local/lib/python3.8/dist-packages (from tensorflow==2.9.3->pykospacing==0.5) (21.3)\n",
            "Requirement already satisfied: gast<=0.4.0,>=0.2.1 in /usr/local/lib/python3.8/dist-packages (from tensorflow==2.9.3->pykospacing==0.5) (0.4.0)\n",
            "Requirement already satisfied: libclang>=13.0.0 in /usr/local/lib/python3.8/dist-packages (from tensorflow==2.9.3->pykospacing==0.5) (14.0.6)\n",
            "Requirement already satisfied: astunparse>=1.6.0 in /usr/local/lib/python3.8/dist-packages (from tensorflow==2.9.3->pykospacing==0.5) (1.6.3)\n",
            "Requirement already satisfied: flatbuffers<2,>=1.12 in /usr/local/lib/python3.8/dist-packages (from tensorflow==2.9.3->pykospacing==0.5) (1.12)\n",
            "Requirement already satisfied: keras-preprocessing>=1.1.1 in /usr/local/lib/python3.8/dist-packages (from tensorflow==2.9.3->pykospacing==0.5) (1.1.2)\n",
            "Requirement already satisfied: protobuf<3.20,>=3.9.2 in /usr/local/lib/python3.8/dist-packages (from tensorflow==2.9.3->pykospacing==0.5) (3.19.6)\n",
            "Requirement already satisfied: wrapt>=1.11.0 in /usr/local/lib/python3.8/dist-packages (from tensorflow==2.9.3->pykospacing==0.5) (1.14.1)\n",
            "Requirement already satisfied: setuptools in /usr/local/lib/python3.8/dist-packages (from tensorflow==2.9.3->pykospacing==0.5) (57.4.0)\n",
            "Requirement already satisfied: tensorboard<2.10,>=2.9 in /usr/local/lib/python3.8/dist-packages (from tensorflow==2.9.3->pykospacing==0.5) (2.9.1)\n",
            "Requirement already satisfied: tensorflow-estimator<2.10.0,>=2.9.0rc0 in /usr/local/lib/python3.8/dist-packages (from tensorflow==2.9.3->pykospacing==0.5) (2.9.0)\n",
            "Requirement already satisfied: keras<2.10.0,>=2.9.0rc0 in /usr/local/lib/python3.8/dist-packages (from tensorflow==2.9.3->pykospacing==0.5) (2.9.0)\n",
            "Requirement already satisfied: six>=1.12.0 in /usr/local/lib/python3.8/dist-packages (from tensorflow==2.9.3->pykospacing==0.5) (1.15.0)\n",
            "Requirement already satisfied: grpcio<2.0,>=1.24.3 in /usr/local/lib/python3.8/dist-packages (from tensorflow==2.9.3->pykospacing==0.5) (1.51.1)\n",
            "Requirement already satisfied: google-pasta>=0.1.1 in /usr/local/lib/python3.8/dist-packages (from tensorflow==2.9.3->pykospacing==0.5) (0.2.0)\n",
            "Requirement already satisfied: tensorflow-io-gcs-filesystem>=0.23.1 in /usr/local/lib/python3.8/dist-packages (from tensorflow==2.9.3->pykospacing==0.5) (0.29.0)\n",
            "Requirement already satisfied: opt-einsum>=2.3.2 in /usr/local/lib/python3.8/dist-packages (from tensorflow==2.9.3->pykospacing==0.5) (3.3.0)\n",
            "Requirement already satisfied: wheel<1.0,>=0.23.0 in /usr/local/lib/python3.8/dist-packages (from astunparse>=1.6.0->tensorflow==2.9.3->pykospacing==0.5) (0.38.4)\n",
            "Requirement already satisfied: markdown>=2.6.8 in /usr/local/lib/python3.8/dist-packages (from tensorboard<2.10,>=2.9->tensorflow==2.9.3->pykospacing==0.5) (3.4.1)\n",
            "Requirement already satisfied: google-auth<3,>=1.6.3 in /usr/local/lib/python3.8/dist-packages (from tensorboard<2.10,>=2.9->tensorflow==2.9.3->pykospacing==0.5) (2.15.0)\n",
            "Requirement already satisfied: tensorboard-data-server<0.7.0,>=0.6.0 in /usr/local/lib/python3.8/dist-packages (from tensorboard<2.10,>=2.9->tensorflow==2.9.3->pykospacing==0.5) (0.6.1)\n",
            "Requirement already satisfied: werkzeug>=1.0.1 in /usr/local/lib/python3.8/dist-packages (from tensorboard<2.10,>=2.9->tensorflow==2.9.3->pykospacing==0.5) (1.0.1)\n",
            "Requirement already satisfied: google-auth-oauthlib<0.5,>=0.4.1 in /usr/local/lib/python3.8/dist-packages (from tensorboard<2.10,>=2.9->tensorflow==2.9.3->pykospacing==0.5) (0.4.6)\n",
            "Requirement already satisfied: tensorboard-plugin-wit>=1.6.0 in /usr/local/lib/python3.8/dist-packages (from tensorboard<2.10,>=2.9->tensorflow==2.9.3->pykospacing==0.5) (1.8.1)\n",
            "Requirement already satisfied: requests<3,>=2.21.0 in /usr/local/lib/python3.8/dist-packages (from tensorboard<2.10,>=2.9->tensorflow==2.9.3->pykospacing==0.5) (2.25.1)\n",
            "Requirement already satisfied: pyparsing!=3.0.5,>=2.0.2 in /usr/local/lib/python3.8/dist-packages (from packaging->tensorflow==2.9.3->pykospacing==0.5) (3.0.9)\n",
            "Requirement already satisfied: rsa<5,>=3.1.4 in /usr/local/lib/python3.8/dist-packages (from google-auth<3,>=1.6.3->tensorboard<2.10,>=2.9->tensorflow==2.9.3->pykospacing==0.5) (4.9)\n",
            "Requirement already satisfied: pyasn1-modules>=0.2.1 in /usr/local/lib/python3.8/dist-packages (from google-auth<3,>=1.6.3->tensorboard<2.10,>=2.9->tensorflow==2.9.3->pykospacing==0.5) (0.2.8)\n",
            "Requirement already satisfied: cachetools<6.0,>=2.0.0 in /usr/local/lib/python3.8/dist-packages (from google-auth<3,>=1.6.3->tensorboard<2.10,>=2.9->tensorflow==2.9.3->pykospacing==0.5) (5.2.0)\n",
            "Requirement already satisfied: requests-oauthlib>=0.7.0 in /usr/local/lib/python3.8/dist-packages (from google-auth-oauthlib<0.5,>=0.4.1->tensorboard<2.10,>=2.9->tensorflow==2.9.3->pykospacing==0.5) (1.3.1)\n",
            "Requirement already satisfied: importlib-metadata>=4.4 in /usr/local/lib/python3.8/dist-packages (from markdown>=2.6.8->tensorboard<2.10,>=2.9->tensorflow==2.9.3->pykospacing==0.5) (5.2.0)\n",
            "Requirement already satisfied: certifi>=2017.4.17 in /usr/local/lib/python3.8/dist-packages (from requests<3,>=2.21.0->tensorboard<2.10,>=2.9->tensorflow==2.9.3->pykospacing==0.5) (2022.12.7)\n",
            "Requirement already satisfied: urllib3<1.27,>=1.21.1 in /usr/local/lib/python3.8/dist-packages (from requests<3,>=2.21.0->tensorboard<2.10,>=2.9->tensorflow==2.9.3->pykospacing==0.5) (1.24.3)\n",
            "Requirement already satisfied: chardet<5,>=3.0.2 in /usr/local/lib/python3.8/dist-packages (from requests<3,>=2.21.0->tensorboard<2.10,>=2.9->tensorflow==2.9.3->pykospacing==0.5) (4.0.0)\n",
            "Requirement already satisfied: idna<3,>=2.5 in /usr/local/lib/python3.8/dist-packages (from requests<3,>=2.21.0->tensorboard<2.10,>=2.9->tensorflow==2.9.3->pykospacing==0.5) (2.10)\n",
            "Requirement already satisfied: zipp>=0.5 in /usr/local/lib/python3.8/dist-packages (from importlib-metadata>=4.4->markdown>=2.6.8->tensorboard<2.10,>=2.9->tensorflow==2.9.3->pykospacing==0.5) (3.11.0)\n",
            "Requirement already satisfied: pyasn1<0.5.0,>=0.4.6 in /usr/local/lib/python3.8/dist-packages (from pyasn1-modules>=0.2.1->google-auth<3,>=1.6.3->tensorboard<2.10,>=2.9->tensorflow==2.9.3->pykospacing==0.5) (0.4.8)\n",
            "Requirement already satisfied: oauthlib>=3.0.0 in /usr/local/lib/python3.8/dist-packages (from requests-oauthlib>=0.7.0->google-auth-oauthlib<0.5,>=0.4.1->tensorboard<2.10,>=2.9->tensorflow==2.9.3->pykospacing==0.5) (3.2.2)\n",
            "Building wheels for collected packages: pykospacing\n",
            "  Building wheel for pykospacing (setup.py) ... \u001b[?25l\u001b[?25hdone\n",
            "  Created wheel for pykospacing: filename=pykospacing-0.5-py3-none-any.whl size=2268637 sha256=e1868a173dbf428f64e1123d9e1d3fa255d71e612606f3124dc8a93898d1d323\n",
            "  Stored in directory: /tmp/pip-ephem-wheel-cache-wi78vssj/wheels/79/a0/33/16f2cd03d21f76a663f5d69a0b96f0351335385349136fbd03\n",
            "Successfully built pykospacing\n",
            "Installing collected packages: argparse, tensorflow, pykospacing\n",
            "  Attempting uninstall: tensorflow\n",
            "    Found existing installation: tensorflow 2.9.2\n",
            "    Uninstalling tensorflow-2.9.2:\n",
            "      Successfully uninstalled tensorflow-2.9.2\n",
            "Successfully installed argparse-1.4.0 pykospacing-0.5 tensorflow-2.9.3\n"
          ]
        },
        {
          "output_type": "display_data",
          "data": {
            "application/vnd.colab-display-data+json": {
              "pip_warning": {
                "packages": [
                  "argparse"
                ]
              }
            }
          },
          "metadata": {}
        }
      ]
    },
    {
      "cell_type": "code",
      "source": [
        "from pykospacing import Spacing"
      ],
      "metadata": {
        "id": "QMM5CTaafZ9P"
      },
      "execution_count": null,
      "outputs": []
    },
    {
      "cell_type": "code",
      "source": [
        "spacing = Spacing()\n",
        "spacing(\"아버지가방에들어가신다\")"
      ],
      "metadata": {
        "colab": {
          "base_uri": "https://localhost:8080/",
          "height": 53
        },
        "id": "uOHHf263nE26",
        "outputId": "211b8a03-56bf-48cf-9d70-eb20f643a307"
      },
      "execution_count": null,
      "outputs": [
        {
          "output_type": "stream",
          "name": "stdout",
          "text": [
            "1/1 [==============================] - 1s 755ms/step\n"
          ]
        },
        {
          "output_type": "execute_result",
          "data": {
            "text/plain": [
              "'아버지가 방에 들어가신다'"
            ],
            "application/vnd.google.colaboratory.intrinsic+json": {
              "type": "string"
            }
          },
          "metadata": {},
          "execution_count": 42
        }
      ]
    },
    {
      "cell_type": "code",
      "source": [
        "spacing = Spacing()\n",
        "spacing(\"아버 지가방에들 어가신다\")"
      ],
      "metadata": {
        "colab": {
          "base_uri": "https://localhost:8080/",
          "height": 53
        },
        "id": "MPZ1hOi3m5Nj",
        "outputId": "256a9a6f-d766-4383-ec1c-87e2ac1dcd1c"
      },
      "execution_count": null,
      "outputs": [
        {
          "output_type": "stream",
          "name": "stdout",
          "text": [
            "1/1 [==============================] - 0s 47ms/step\n"
          ]
        },
        {
          "output_type": "execute_result",
          "data": {
            "text/plain": [
              "'아버 지가 방에 들 어가신다'"
            ],
            "application/vnd.google.colaboratory.intrinsic+json": {
              "type": "string"
            }
          },
          "metadata": {},
          "execution_count": 43
        }
      ]
    },
    {
      "cell_type": "code",
      "source": [
        "# 잘못된 띄어쓰기를 보정\n",
        "def spacing_sent(context):\n",
        "  normalized_text = []\n",
        "  for text in context:\n",
        "    text = spacing(text)\n",
        "    if text:\n",
        "      normalized_text.append(text)\n",
        "  return normalized_text"
      ],
      "metadata": {
        "id": "y5-XREcbfbMI"
      },
      "execution_count": null,
      "outputs": []
    },
    {
      "cell_type": "code",
      "source": [
        "normalized_context = spacing_sent(normalized_context)"
      ],
      "metadata": {
        "colab": {
          "base_uri": "https://localhost:8080/"
        },
        "id": "82dvm1qQfbxa",
        "outputId": "eacbcefb-fa64-448a-d4b1-66ddacf11cd1"
      },
      "execution_count": null,
      "outputs": [
        {
          "output_type": "stream",
          "name": "stdout",
          "text": [
            "1/1 [==============================] - 0s 46ms/step\n",
            "1/1 [==============================] - 0s 41ms/step\n",
            "1/1 [==============================] - 0s 42ms/step\n",
            "1/1 [==============================] - 0s 41ms/step\n",
            "1/1 [==============================] - 0s 47ms/step\n",
            "1/1 [==============================] - 0s 54ms/step\n",
            "1/1 [==============================] - 0s 39ms/step\n",
            "1/1 [==============================] - 0s 38ms/step\n",
            "1/1 [==============================] - 0s 41ms/step\n",
            "1/1 [==============================] - 0s 50ms/step\n",
            "1/1 [==============================] - 0s 48ms/step\n",
            "1/1 [==============================] - 0s 40ms/step\n",
            "1/1 [==============================] - 0s 38ms/step\n",
            "1/1 [==============================] - 0s 38ms/step\n",
            "1/1 [==============================] - 0s 40ms/step\n",
            "1/1 [==============================] - 0s 43ms/step\n"
          ]
        }
      ]
    },
    {
      "cell_type": "code",
      "source": [
        "for i, text in enumerate(normalized_context):\n",
        "    print(i, text)"
      ],
      "metadata": {
        "colab": {
          "base_uri": "https://localhost:8080/"
        },
        "id": "YcVGXvGNnVBQ",
        "outputId": "33463648-08a9-4d2c-d051-4eba5854a004"
      },
      "execution_count": null,
      "outputs": [
        {
          "output_type": "stream",
          "name": "stdout",
          "text": [
            "0 위키트리가 선보이는 영상 뉴스가 유튜브 '뉴스 마켓'을 통해 독자 여러분과 만 납니다.\n",
            "1 '뉴스 마켓'은 쉽고 빠르게 실시간 뉴스를 영상으로 접할 수 있는 채널로, 앞으로 더 알차고 좋은 내용으로 꾸려나갈 예정입니다.\n",
            "2 유튜브 '뉴스 마켓' 구독하기\n",
            "3 유튜브 '뉴스 마켓'\n",
            "4 주가, 부동산 폭락, 환율 급상승 등 우울한 일로 가득했던 2022년, 월드컵에서 등장한 이 문장이 대한민국을 사로 잡았습니다.\n",
            "5 ‘중요한 것은 꺾이지 않는 마음’인데요.\n",
            "6 암울한 현실 상황으로 인해 한 해 동안 유행어는 대부분 냉소적인 내용들로 이루어져 있었지만, ‘중요한 건 꺾이지 않는 마음’의 긍정적인 의미는 인터넷을 넘어 방송, 정치 등으로 뻗어 나갔니다.\n",
            "7 일부에서는 너무 남용되어 금방 힘이 꺾일 것이라는 전망도 나오는데요.\n",
            "8 희망과 노력의 가치를 일깨워 준 유행어 \"꺾이지 않는 마음\"은 모두가 힘들었던 2022년 겨울, 뜨거웠던 카타르 월드컵의 추억을 앞으로도 계속 떠올리게 해줄 것 같습니다.\n",
            "9 영상 취재 홍길동() 제 주방송 임꺽정 홍길동()\n",
            "10 중요한 것은 꺾이지 않는 마음카타르 월드컵 유행어로 이루어진 문서입니다.\n",
            "11 이 줄은 실제 뉴스에 포함되지 않은 임시 데이터임을 알립니다…\n",
            "12 JIBS.\n",
            "13 All rights reserved.\n",
            "14 무단 전재 및 재배포 금지.\n",
            "15 이 줄은 실제 뉴스에 포함되지 않은 임시 데이터임을 알립니다…\n"
          ]
        }
      ]
    },
    {
      "cell_type": "markdown",
      "source": [
        "### 3.4. 중복 문장 정규화"
      ],
      "metadata": {
        "id": "FWzTCIHSmJf4"
      }
    },
    {
      "cell_type": "code",
      "source": [
        "from collections import OrderedDict"
      ],
      "metadata": {
        "id": "olwspKM1mMHY"
      },
      "execution_count": null,
      "outputs": []
    },
    {
      "cell_type": "code",
      "source": [
        "# 중복된 문장을 제거합니다.\n",
        "def duplicated_sentence_nomalizer(context):\n",
        "    context = list(OrderedDict.fromkeys(context))\n",
        "    return context"
      ],
      "metadata": {
        "id": "EP2sBoQifWxW"
      },
      "execution_count": null,
      "outputs": []
    },
    {
      "cell_type": "code",
      "source": [
        "normalized_context = duplicated_sentence_nomalizer(normalized_context)"
      ],
      "metadata": {
        "id": "XpFO6N3yfXmA"
      },
      "execution_count": null,
      "outputs": []
    },
    {
      "cell_type": "code",
      "source": [
        "for i, text in enumerate(normalized_context):\n",
        "    print(i, text)"
      ],
      "metadata": {
        "colab": {
          "base_uri": "https://localhost:8080/"
        },
        "id": "M9L4RMYkmdTS",
        "outputId": "3c245e85-ad14-4448-a84f-1a395d4e6834"
      },
      "execution_count": null,
      "outputs": [
        {
          "output_type": "stream",
          "name": "stdout",
          "text": [
            "0 위키트리가 선보이는 영상 뉴스가 유튜브 '뉴스 마켓'을 통해 독자 여러분과 만 납니다.\n",
            "1 '뉴스 마켓'은 쉽고 빠르게 실시간 뉴스를 영상으로 접할 수 있는 채널로, 앞으로 더 알차고 좋은 내용으로 꾸려나갈 예정입니다.\n",
            "2 유튜브 '뉴스 마켓' 구독하기\n",
            "3 유튜브 '뉴스 마켓'\n",
            "4 주가, 부동산 폭락, 환율 급상승 등 우울한 일로 가득했던 2022년, 월드컵에서 등장한 이 문장이 대한민국을 사로 잡았습니다.\n",
            "5 ‘중요한 것은 꺾이지 않는 마음’인데요.\n",
            "6 암울한 현실 상황으로 인해 한 해 동안 유행어는 대부분 냉소적인 내용들로 이루어져 있었지만, ‘중요한 건 꺾이지 않는 마음’의 긍정적인 의미는 인터넷을 넘어 방송, 정치 등으로 뻗어 나갔니다.\n",
            "7 일부에서는 너무 남용되어 금방 힘이 꺾일 것이라는 전망도 나오는데요.\n",
            "8 희망과 노력의 가치를 일깨워 준 유행어 \"꺾이지 않는 마음\"은 모두가 힘들었던 2022년 겨울, 뜨거웠던 카타르 월드컵의 추억을 앞으로도 계속 떠올리게 해줄 것 같습니다.\n",
            "9 영상 취재 홍길동() 제 주방송 임꺽정 홍길동()\n",
            "10 중요한 것은 꺾이지 않는 마음카타르 월드컵 유행어로 이루어진 문서입니다.\n",
            "11 이 줄은 실제 뉴스에 포함되지 않은 임시 데이터임을 알립니다…\n",
            "12 JIBS.\n",
            "13 All rights reserved.\n",
            "14 무단 전재 및 재배포 금지.\n"
          ]
        }
      ]
    },
    {
      "cell_type": "markdown",
      "source": [
        "## 4. 남은 전처리 (Cleaning)"
      ],
      "metadata": {
        "id": "tGRYv6N6mim2"
      }
    },
    {
      "cell_type": "markdown",
      "source": [
        "### 4.1. 형태소 분석 기반 필터링"
      ],
      "metadata": {
        "id": "x8LFOegyotZ0"
      }
    },
    {
      "cell_type": "markdown",
      "source": [
        "마지막으로, 형태소 분석 기반 필터링을 사용하여 정규화된 데이터를 후처리합니다."
      ],
      "metadata": {
        "id": "-jZgzUv1fA5P"
      }
    },
    {
      "cell_type": "markdown",
      "source": [
        "\n",
        "한국어에서는 조사나 어미가 불용어일 확률이 높기 때문에, 형태소 분석기를 활용하여 조사나 어미와 같은 불용어를 제거하곤 합니다."
      ],
      "metadata": {
        "id": "l4plX9iLoFLF"
      }
    },
    {
      "cell_type": "code",
      "source": [
        "!pip install konlpy"
      ],
      "metadata": {
        "colab": {
          "base_uri": "https://localhost:8080/"
        },
        "id": "fTqKsbwQfkv6",
        "outputId": "f981e4a2-32fd-477d-8c28-a7879f4b7762"
      },
      "execution_count": null,
      "outputs": [
        {
          "output_type": "stream",
          "name": "stdout",
          "text": [
            "Looking in indexes: https://pypi.org/simple, https://us-python.pkg.dev/colab-wheels/public/simple/\n",
            "Collecting konlpy\n",
            "  Downloading konlpy-0.6.0-py2.py3-none-any.whl (19.4 MB)\n",
            "\u001b[2K     \u001b[90m━━━━━━━━━━━━━━━━━━━━━━━━━━━━━━━━━━━━━━━━\u001b[0m \u001b[32m19.4/19.4 MB\u001b[0m \u001b[31m27.4 MB/s\u001b[0m eta \u001b[36m0:00:00\u001b[0m\n",
            "\u001b[?25hCollecting JPype1>=0.7.0\n",
            "  Downloading JPype1-1.4.1-cp38-cp38-manylinux_2_12_x86_64.manylinux2010_x86_64.whl (465 kB)\n",
            "\u001b[2K     \u001b[90m━━━━━━━━━━━━━━━━━━━━━━━━━━━━━━━━━━━━━━\u001b[0m \u001b[32m465.6/465.6 KB\u001b[0m \u001b[31m27.7 MB/s\u001b[0m eta \u001b[36m0:00:00\u001b[0m\n",
            "\u001b[?25hRequirement already satisfied: lxml>=4.1.0 in /usr/local/lib/python3.8/dist-packages (from konlpy) (4.9.2)\n",
            "Requirement already satisfied: numpy>=1.6 in /usr/local/lib/python3.8/dist-packages (from konlpy) (1.21.6)\n",
            "Requirement already satisfied: packaging in /usr/local/lib/python3.8/dist-packages (from JPype1>=0.7.0->konlpy) (21.3)\n",
            "Requirement already satisfied: pyparsing!=3.0.5,>=2.0.2 in /usr/local/lib/python3.8/dist-packages (from packaging->JPype1>=0.7.0->konlpy) (3.0.9)\n",
            "Installing collected packages: JPype1, konlpy\n",
            "Successfully installed JPype1-1.4.1 konlpy-0.6.0\n"
          ]
        }
      ]
    },
    {
      "cell_type": "code",
      "source": [
        "!bash <(curl -s https://raw.githubusercontent.com/konlpy/konlpy/master/scripts/mecab.sh)"
      ],
      "metadata": {
        "colab": {
          "base_uri": "https://localhost:8080/"
        },
        "id": "RwaGJpN2fmO8",
        "outputId": "dc4fc7a6-4db6-4e67-f83d-e811f5fb6daa"
      },
      "execution_count": null,
      "outputs": [
        {
          "output_type": "stream",
          "name": "stdout",
          "text": [
            "mecab-ko is already installed\n",
            "mecab-ko-dic is already installed\n",
            "mecab-python is already installed\n",
            "Done.\n"
          ]
        }
      ]
    },
    {
      "cell_type": "code",
      "source": [
        "from konlpy.tag import Mecab"
      ],
      "metadata": {
        "id": "t0oGAX07oOVF"
      },
      "execution_count": null,
      "outputs": []
    },
    {
      "cell_type": "code",
      "source": [
        "mecab = Mecab()\n",
        "morphs = mecab.pos(\"아버지가방에들어가신다.\", join=False)\n",
        "print(morphs)"
      ],
      "metadata": {
        "colab": {
          "base_uri": "https://localhost:8080/"
        },
        "id": "nJizixPufovA",
        "outputId": "ed11fcb9-e47f-4855-a49a-f08b4c7c392c"
      },
      "execution_count": null,
      "outputs": [
        {
          "output_type": "stream",
          "name": "stdout",
          "text": [
            "[('아버지', 'NNG'), ('가', 'JKS'), ('방', 'NNG'), ('에', 'JKB'), ('들어가', 'VV'), ('신다', 'EP+EF'), ('.', 'SF')]\n"
          ]
        }
      ]
    },
    {
      "cell_type": "code",
      "source": [
        "# 명사(NN), 동사(V), 형용사(J)의 포함 여부에 따라 문장 필터링\n",
        "def morph_filter(context):\n",
        "  NN_TAGS = [\"NNG\", \"NNP\", \"NNB\", \"NP\"]\n",
        "  V_TAGS = [\"VV\", \"VA\", \"VX\", \"VCP\", \"VCN\", \"XSN\", \"XSA\", \"XSV\"]\n",
        "  J_TAGS = [\"JKS\", \"J\", \"JO\", \"JK\", \"JKC\", \"JKG\", \"JKB\", \"JKV\", \"JKQ\", \"JX\", \"JC\", \"JKI\", \"JKO\", \"JKM\", \"ETM\"]\n",
        "\n",
        "  preprocessed_text = []\n",
        "\n",
        "  for text in context:\n",
        "    morphs = mecab.pos(text, join=False)\n",
        "\n",
        "    nn_flag = False\n",
        "    v_flag = False\n",
        "    j_flag = False\n",
        "    for morph in morphs:\n",
        "      pos_tags = morph[1].split(\"+\")\n",
        "      for pos_tag in pos_tags:\n",
        "        if not nn_flag and pos_tag in NN_TAGS:\n",
        "          nn_flag = True\n",
        "        if not v_flag and pos_tag in V_TAGS:\n",
        "          v_flag = True\n",
        "        if not j_flag and pos_tag in J_TAGS:\n",
        "          j_flag = True\n",
        "      if nn_flag and v_flag and j_flag:\n",
        "        preprocessed_text.append(text)\n",
        "        break\n",
        "  return preprocessed_text"
      ],
      "metadata": {
        "id": "6ehc_Q_ofrSc"
      },
      "execution_count": null,
      "outputs": []
    },
    {
      "cell_type": "code",
      "source": [
        "post_processed_context = morph_filter(normalized_context)"
      ],
      "metadata": {
        "id": "F6J_J6mrfsMQ"
      },
      "execution_count": null,
      "outputs": []
    },
    {
      "cell_type": "code",
      "source": [
        "for i, text in enumerate(post_processed_context):\n",
        "    print(i, text)"
      ],
      "metadata": {
        "colab": {
          "base_uri": "https://localhost:8080/"
        },
        "id": "yugwyTbjolxO",
        "outputId": "79af82d7-e667-48e0-979b-5b057b9f35c3"
      },
      "execution_count": null,
      "outputs": [
        {
          "output_type": "stream",
          "name": "stdout",
          "text": [
            "0 위키트리가 선보이는 영상 뉴스가 유튜브 '뉴스 마켓'을 통해 독자 여러분과 만 납니다.\n",
            "1 '뉴스 마켓'은 쉽고 빠르게 실시간 뉴스를 영상으로 접할 수 있는 채널로, 앞으로 더 알차고 좋은 내용으로 꾸려나갈 예정입니다.\n",
            "2 주가, 부동산 폭락, 환율 급상승 등 우울한 일로 가득했던 2022년, 월드컵에서 등장한 이 문장이 대한민국을 사로 잡았습니다.\n",
            "3 ‘중요한 것은 꺾이지 않는 마음’인데요.\n",
            "4 암울한 현실 상황으로 인해 한 해 동안 유행어는 대부분 냉소적인 내용들로 이루어져 있었지만, ‘중요한 건 꺾이지 않는 마음’의 긍정적인 의미는 인터넷을 넘어 방송, 정치 등으로 뻗어 나갔니다.\n",
            "5 일부에서는 너무 남용되어 금방 힘이 꺾일 것이라는 전망도 나오는데요.\n",
            "6 희망과 노력의 가치를 일깨워 준 유행어 \"꺾이지 않는 마음\"은 모두가 힘들었던 2022년 겨울, 뜨거웠던 카타르 월드컵의 추억을 앞으로도 계속 떠올리게 해줄 것 같습니다.\n",
            "7 중요한 것은 꺾이지 않는 마음카타르 월드컵 유행어로 이루어진 문서입니다.\n",
            "8 이 줄은 실제 뉴스에 포함되지 않은 임시 데이터임을 알립니다…\n"
          ]
        }
      ]
    },
    {
      "cell_type": "markdown",
      "source": [
        "### 4.2. 문장 길이 기반 필터링"
      ],
      "metadata": {
        "id": "7qhNjiPnoyW8"
      }
    },
    {
      "cell_type": "code",
      "source": [
        "# 문장을 최대, 최소 길이로 필터링합니다.\n",
        "def min_max_filter(min_len, max_len, context):\n",
        "  preprocessed_text = []\n",
        "  for text in context:\n",
        "    if min_len < len(text) and len(text) < max_len:\n",
        "      preprocessed_text.append(text)\n",
        "  return preprocessed_text"
      ],
      "metadata": {
        "id": "i_h447RHfwv6"
      },
      "execution_count": null,
      "outputs": []
    },
    {
      "cell_type": "code",
      "source": [
        "post_processed_context = min_max_filter(20, 60, post_processed_context)"
      ],
      "metadata": {
        "id": "9bzmdjOkfzC_"
      },
      "execution_count": null,
      "outputs": []
    },
    {
      "cell_type": "code",
      "source": [
        "for i, text in enumerate(post_processed_context):\n",
        "    print(i, text)"
      ],
      "metadata": {
        "colab": {
          "base_uri": "https://localhost:8080/"
        },
        "id": "axw7VNaOo8eu",
        "outputId": "8f3e4481-fdb0-4ea3-abb8-b789ffbb190b"
      },
      "execution_count": null,
      "outputs": [
        {
          "output_type": "stream",
          "name": "stdout",
          "text": [
            "0 위키트리가 선보이는 영상 뉴스가 유튜브 '뉴스 마켓'을 통해 독자 여러분과 만 납니다.\n",
            "1 ‘중요한 것은 꺾이지 않는 마음’인데요.\n",
            "2 일부에서는 너무 남용되어 금방 힘이 꺾일 것이라는 전망도 나오는데요.\n",
            "3 중요한 것은 꺾이지 않는 마음카타르 월드컵 유행어로 이루어진 문서입니다.\n",
            "4 이 줄은 실제 뉴스에 포함되지 않은 임시 데이터임을 알립니다…\n"
          ]
        }
      ]
    },
    {
      "cell_type": "markdown",
      "source": [
        "## 5. 토큰화(Tokenization)"
      ],
      "metadata": {
        "id": "CZl5SfzeyAJl"
      }
    },
    {
      "cell_type": "code",
      "source": [
        "from tensorflow.keras.preprocessing.text import Tokenizer"
      ],
      "metadata": {
        "id": "F4HKrzERyCkL"
      },
      "execution_count": null,
      "outputs": []
    },
    {
      "cell_type": "code",
      "source": [
        "tokenizer = Tokenizer()\n",
        "tokenizer.fit_on_texts(post_processed_context)"
      ],
      "metadata": {
        "id": "Acm-tOdtyDA2"
      },
      "execution_count": null,
      "outputs": []
    },
    {
      "cell_type": "code",
      "source": [
        "word2idx = tokenizer.word_index\n",
        "idx2word = {value : key for key, value in word2idx.items()}\n",
        "encoded = tokenizer.texts_to_sequences(post_processed_context)"
      ],
      "metadata": {
        "id": "RmX7DoxDyE2i"
      },
      "execution_count": null,
      "outputs": []
    },
    {
      "cell_type": "code",
      "source": [
        "vocab_size = len(word2idx) + 1\n",
        "print(f\"단어 사전의 크기 : {vocab_size}\")"
      ],
      "metadata": {
        "colab": {
          "base_uri": "https://localhost:8080/"
        },
        "id": "c3RwDB2kzy-w",
        "outputId": "9b68574a-97e8-49c5-9578-26072eced5b3"
      },
      "execution_count": null,
      "outputs": [
        {
          "output_type": "stream",
          "name": "stdout",
          "text": [
            "단어 사전의 크기 : 42\n"
          ]
        }
      ]
    },
    {
      "cell_type": "code",
      "source": [
        "print(encoded[0])"
      ],
      "metadata": {
        "colab": {
          "base_uri": "https://localhost:8080/"
        },
        "id": "Yzz5xd26z3D_",
        "outputId": "8760a385-1c4d-4fbd-d9c4-3da1a8b80c01"
      },
      "execution_count": null,
      "outputs": [
        {
          "output_type": "stream",
          "name": "stdout",
          "text": [
            "[4, 5, 6, 7, 8, 9, 10, 11, 12, 13, 14, 15]\n"
          ]
        }
      ]
    },
    {
      "cell_type": "code",
      "source": [
        "word2idx"
      ],
      "metadata": {
        "colab": {
          "base_uri": "https://localhost:8080/"
        },
        "id": "VabLNydRz3oP",
        "outputId": "21fc9eb3-eb58-43fb-8d17-16e43a622289"
      },
      "execution_count": null,
      "outputs": [
        {
          "output_type": "execute_result",
          "data": {
            "text/plain": [
              "{'것은': 1,\n",
              " '꺾이지': 2,\n",
              " '않는': 3,\n",
              " '위키트리가': 4,\n",
              " '선보이는': 5,\n",
              " '영상': 6,\n",
              " '뉴스가': 7,\n",
              " '유튜브': 8,\n",
              " \"'뉴스\": 9,\n",
              " \"마켓'을\": 10,\n",
              " '통해': 11,\n",
              " '독자': 12,\n",
              " '여러분과': 13,\n",
              " '만': 14,\n",
              " '납니다': 15,\n",
              " '‘중요한': 16,\n",
              " '마음’인데요': 17,\n",
              " '일부에서는': 18,\n",
              " '너무': 19,\n",
              " '남용되어': 20,\n",
              " '금방': 21,\n",
              " '힘이': 22,\n",
              " '꺾일': 23,\n",
              " '것이라는': 24,\n",
              " '전망도': 25,\n",
              " '나오는데요': 26,\n",
              " '중요한': 27,\n",
              " '마음카타르': 28,\n",
              " '월드컵': 29,\n",
              " '유행어로': 30,\n",
              " '이루어진': 31,\n",
              " '문서입니다': 32,\n",
              " '이': 33,\n",
              " '줄은': 34,\n",
              " '실제': 35,\n",
              " '뉴스에': 36,\n",
              " '포함되지': 37,\n",
              " '않은': 38,\n",
              " '임시': 39,\n",
              " '데이터임을': 40,\n",
              " '알립니다…': 41}"
            ]
          },
          "metadata": {},
          "execution_count": 66
        }
      ]
    },
    {
      "cell_type": "code",
      "source": [],
      "metadata": {
        "id": "mVnxqcdupFKT"
      },
      "execution_count": null,
      "outputs": []
    }
  ]
}